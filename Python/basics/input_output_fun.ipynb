{
 "cells": [
  {
   "cell_type": "markdown",
   "id": "818a926b",
   "metadata": {},
   "source": [
    "print()"
   ]
  },
  {
   "cell_type": "code",
   "execution_count": 2,
   "id": "d30ba21c",
   "metadata": {},
   "outputs": [
    {
     "name": "stdout",
     "output_type": "stream",
     "text": [
      "hello\n",
      "welcome to gfg\n",
      "\n",
      "you are enjoing\n"
     ]
    }
   ],
   "source": [
    "print (\"hello\")\n",
    "print(\"welcome to gfg\")\n",
    "print() # print a new line\n",
    "print(\"you are enjoing\")"
   ]
  },
  {
   "cell_type": "markdown",
   "id": "42b8482e",
   "metadata": {},
   "source": [
    "end and sep in print()"
   ]
  },
  {
   "cell_type": "code",
   "execution_count": 6,
   "id": "b8d4e98c",
   "metadata": {},
   "outputs": [
    {
     "name": "stdout",
     "output_type": "stream",
     "text": [
      "welcome  to gfg\n",
      "25-08-90\n",
      "10+20+30=60\n"
     ]
    }
   ],
   "source": [
    "print(\"welcome \",end = \" \")# end parameter tells what to print at last by \n",
    "                         # default it is a new line charachter(\\n)\n",
    "print(\"to gfg\")      \n",
    "print(\"25\",\"08\",\"90\" ,sep = \"-\") # sep parameter tells what to print betwwn \n",
    "                            # when multiple output  is present    \n",
    "print(10,20,30 ,sep=\"+\" ,end= \"=\")       \n",
    "print(60)                                  "
   ]
  },
  {
   "cell_type": "markdown",
   "id": "99a8a4e2",
   "metadata": {},
   "source": [
    "\n",
    "✅ Syntax\n",
    "print(*objects, sep=' ', end='\\n', file=sys.stdout, flush=False)\n",
    "\n",
    "\n",
    "*objects → The values you want to print (can be strings, numbers, variables, etc.). Multiple objects are separated by sep.\n",
    "\n",
    "sep → Separator between objects. Default is a space ' '.\n",
    "\n",
    "end → What to print at the end. Default is newline \\n.\n",
    "\n",
    "file → Where to send the output (default is screen/console).\n",
    "\n",
    "flush → If True, forces the output to appear immediately."
   ]
  },
  {
   "cell_type": "markdown",
   "id": "df2189cd",
   "metadata": {},
   "source": [
    "🔤Input function in python"
   ]
  },
  {
   "cell_type": "code",
   "execution_count": null,
   "id": "445591bb",
   "metadata": {},
   "outputs": [],
   "source": [
    "a = input(\"entr your name\")\n",
    "b  = input (\"enter your age\")\n"
   ]
  },
  {
   "cell_type": "code",
   "execution_count": null,
   "id": "3344882c",
   "metadata": {},
   "outputs": [
    {
     "name": "stdout",
     "output_type": "stream",
     "text": [
      "my name is chandrachud siddharth\n",
      "my name is chandrachud siddharth\n",
      "i am 19yearas old\n"
     ]
    }
   ],
   "source": [
    "print(\"my name is \"+ a)\n",
    "print(f\"my name is {a}\") # f is called formatted strings\n",
    "print(\"i am \"+b+\" yearas old\")"
   ]
  },
  {
   "cell_type": "markdown",
   "id": "ff442360",
   "metadata": {},
   "source": [
    "adding tow number"
   ]
  },
  {
   "cell_type": "code",
   "execution_count": 14,
   "id": "416ac3c3",
   "metadata": {},
   "outputs": [
    {
     "name": "stdout",
     "output_type": "stream",
     "text": [
      "sum = 68\n"
     ]
    }
   ],
   "source": [
    "a = input(\"Enter first number\")\n",
    "b = input(\"enter second number\")\n",
    "a = int(a)\n",
    "b = int (b)\n",
    "print(\"sum =\",a+b)"
   ]
  },
  {
   "cell_type": "code",
   "execution_count": 15,
   "id": "8ddeea6e",
   "metadata": {},
   "outputs": [
    {
     "name": "stdout",
     "output_type": "stream",
     "text": [
      "sum= 90\n"
     ]
    }
   ],
   "source": [
    "a =int( input(\"Enter first number\"))\n",
    "b = int(input(\"enter second number\"))\n",
    "print(\"sum=\",a+b)"
   ]
  },
  {
   "cell_type": "code",
   "execution_count": null,
   "id": "e20651c8",
   "metadata": {},
   "outputs": [
    {
     "data": {
      "text/plain": [
       "'6733'"
      ]
     },
     "execution_count": 16,
     "metadata": {},
     "output_type": "execute_result"
    }
   ],
   "source": [
    "a = input()\n",
    "b = input()\n",
    "c= a+b\n",
    "c"
   ]
  },
  {
   "cell_type": "markdown",
   "id": "32373fc7",
   "metadata": {},
   "source": []
  }
 ],
 "metadata": {
  "kernelspec": {
   "display_name": "base",
   "language": "python",
   "name": "python3"
  },
  "language_info": {
   "codemirror_mode": {
    "name": "ipython",
    "version": 3
   },
   "file_extension": ".py",
   "mimetype": "text/x-python",
   "name": "python",
   "nbconvert_exporter": "python",
   "pygments_lexer": "ipython3",
   "version": "3.13.5"
  }
 },
 "nbformat": 4,
 "nbformat_minor": 5
}
