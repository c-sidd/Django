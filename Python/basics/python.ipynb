{
 "cells": [
  {
   "cell_type": "markdown",
   "id": "bc5d04e7",
   "metadata": {},
   "source": [
    "OUTPUT FUNCTION"
   ]
  },
  {
   "cell_type": "markdown",
   "id": "d75d7be8",
   "metadata": {},
   "source": [
    "python code is interpreted , it is dynammically type language and it does not need to stat type of data type;\n"
   ]
  },
  {
   "cell_type": "code",
   "execution_count": 2,
   "id": "2129e725",
   "metadata": {},
   "outputs": [
    {
     "name": "stdout",
     "output_type": "stream",
     "text": [
      "Hello World\n"
     ]
    }
   ],
   "source": [
    "print(\"Hello World\");"
   ]
  },
  {
   "cell_type": "markdown",
   "id": "daccb44d",
   "metadata": {},
   "source": [
    "variables in python"
   ]
  },
  {
   "cell_type": "code",
   "execution_count": 3,
   "id": "ab3cc004",
   "metadata": {},
   "outputs": [
    {
     "name": "stdout",
     "output_type": "stream",
     "text": [
      "56\n"
     ]
    }
   ],
   "source": [
    "price = 38\n",
    "tax = 18\n",
    "total_price = price +tax \n",
    "print(total_price)\n"
   ]
  },
  {
   "cell_type": "markdown",
   "id": "b37d26a1",
   "metadata": {},
   "source": [
    "None value\n"
   ]
  },
  {
   "cell_type": "code",
   "execution_count": null,
   "id": "da183193",
   "metadata": {},
   "outputs": [
    {
     "name": "stdout",
     "output_type": "stream",
     "text": [
      "None\n"
     ]
    }
   ],
   "source": [
    "x = None\n",
    "print(x)  #none does not means 0,false or anything \n"
   ]
  },
  {
   "cell_type": "markdown",
   "id": "49ac018f",
   "metadata": {},
   "source": [
    "Assigning value with variable using comma operator"
   ]
  },
  {
   "cell_type": "code",
   "execution_count": 4,
   "id": "515465ac",
   "metadata": {},
   "outputs": [],
   "source": [
    "x,y,z = \"python\",67,89.08"
   ]
  },
  {
   "cell_type": "code",
   "execution_count": 5,
   "id": "70b4d4b5",
   "metadata": {},
   "outputs": [
    {
     "name": "stdout",
     "output_type": "stream",
     "text": [
      "python\n",
      "67\n",
      "89.08\n"
     ]
    }
   ],
   "source": [
    "print(x)\n",
    "print(y)\n",
    "print(z)"
   ]
  },
  {
   "cell_type": "markdown",
   "id": "94e05e56",
   "metadata": {},
   "source": [
    "Id function"
   ]
  },
  {
   "cell_type": "code",
   "execution_count": 6,
   "id": "e077a79f",
   "metadata": {},
   "outputs": [
    {
     "name": "stdout",
     "output_type": "stream",
     "text": [
      "140718005597224\n"
     ]
    }
   ],
   "source": [
    "print(id(5))"
   ]
  },
  {
   "cell_type": "code",
   "execution_count": 7,
   "id": "4aa80cdb",
   "metadata": {},
   "outputs": [
    {
     "name": "stdout",
     "output_type": "stream",
     "text": [
      "140718005597384\n",
      "140718005597384\n"
     ]
    }
   ],
   "source": [
    "a = 10\n",
    "print(id(a))\n",
    "b = a\n",
    "print((id(b)))"
   ]
  },
  {
   "cell_type": "markdown",
   "id": "c9419c48",
   "metadata": {},
   "source": [
    "in pyhton variable act as a reference  as we can check by taking id of variable"
   ]
  },
  {
   "cell_type": "code",
   "execution_count": 9,
   "id": "85057aad",
   "metadata": {},
   "outputs": [
    {
     "name": "stdout",
     "output_type": "stream",
     "text": [
      "140718005597384\n",
      "140718005597384\n",
      "140718005597224\n"
     ]
    }
   ],
   "source": [
    "a = 10\n",
    "b = 10\n",
    "print(id(a))\n",
    "print(id(b))\n",
    "b = 5\n",
    "print(id(b))"
   ]
  },
  {
   "cell_type": "markdown",
   "id": "d2d363bb",
   "metadata": {},
   "source": [
    "🔍 What id() Really Shows\n",
    "- id(x) returns the identity (memory address) of the object x refers to.\n",
    "- In CPython, integers from –5 to 256 are interned — meaning Python reuses these immutable objects to save memory and speed up comparisons.\n",
    "So when you do:\n",
    "a = 10\n",
    "b = 10\n",
    "\n",
    "\n",
    "Both a and b point to the same object in memory — the interned integer 10.\n",
    "\n",
    "🧠 Why Does b = 5 Change the ID?\n",
    "When you reassign b = 5, Python doesn’t modify the existing object. Instead:\n",
    "- It creates a new reference to the interned integer 5.\n",
    "- So b now points to a different object, and id(b) reflects that.\n",
    "\n",
    "\n"
   ]
  },
  {
   "cell_type": "markdown",
   "id": "affca74f",
   "metadata": {},
   "source": [
    "IS OPERATOR IN PYHTON"
   ]
  },
  {
   "cell_type": "markdown",
   "id": "73ddafe6",
   "metadata": {},
   "source": [
    "The is operator checks whether two variables point to the exact same object in memory — not just whether they have the same value.\n"
   ]
  },
  {
   "cell_type": "code",
   "execution_count": 10,
   "id": "d9477324",
   "metadata": {},
   "outputs": [
    {
     "name": "stdout",
     "output_type": "stream",
     "text": [
      "True\n"
     ]
    }
   ],
   "source": [
    "a= 10\n",
    "b = 10\n",
    "print(a is b)"
   ]
  },
  {
   "cell_type": "code",
   "execution_count": 12,
   "id": "eb1caf97",
   "metadata": {},
   "outputs": [
    {
     "name": "stdout",
     "output_type": "stream",
     "text": [
      "True\n",
      "False\n"
     ]
    }
   ],
   "source": [
    "c = b\n",
    "print ( c is a )\n",
    "c = 20\n",
    "print(c is b)"
   ]
  },
  {
   "cell_type": "markdown",
   "id": "1f5a6fcc",
   "metadata": {},
   "source": [
    "SWAP TWO VARIABLES"
   ]
  },
  {
   "cell_type": "markdown",
   "id": "554ad695",
   "metadata": {},
   "source": [
    "In Python, a variable does not store the actual value directly like in C++.\n",
    "\n",
    "Instead, it refers to an object in memory. Every value in Python is an object, and the variable points to that object."
   ]
  },
  {
   "cell_type": "code",
   "execution_count": 1,
   "id": "239b03d3",
   "metadata": {},
   "outputs": [
    {
     "name": "stdout",
     "output_type": "stream",
     "text": [
      "50\n"
     ]
    }
   ],
   "source": [
    "x = 100\n",
    "y = 50\n",
    "temp = x  \n",
    "x= y\n",
    "y = temp\n",
    "print(x)\n"
   ]
  },
  {
   "cell_type": "code",
   "execution_count": 2,
   "id": "46d4b484",
   "metadata": {},
   "outputs": [
    {
     "name": "stdout",
     "output_type": "stream",
     "text": [
      "100\n"
     ]
    }
   ],
   "source": [
    "print(y)"
   ]
  },
  {
   "cell_type": "markdown",
   "id": "a7ec0db6",
   "metadata": {},
   "source": [
    "swap in python using comma operator"
   ]
  },
  {
   "cell_type": "code",
   "execution_count": 3,
   "id": "764d8962",
   "metadata": {},
   "outputs": [
    {
     "name": "stdout",
     "output_type": "stream",
     "text": [
      "50\n",
      "100\n"
     ]
    }
   ],
   "source": [
    "x = 100\n",
    "y =50\n",
    "x,y = y,x\n",
    "print(x)\n",
    "print(y)"
   ]
  },
  {
   "cell_type": "markdown",
   "id": "bc6afea5",
   "metadata": {},
   "source": [
    "type() in python"
   ]
  },
  {
   "cell_type": "code",
   "execution_count": 15,
   "id": "5c0cd61f",
   "metadata": {},
   "outputs": [
    {
     "name": "stdout",
     "output_type": "stream",
     "text": [
      "<class 'int'>\n",
      "<class 'float'>\n",
      "<class 'str'>\n",
      "<class 'bool'>\n",
      "<class 'NoneType'>\n"
     ]
    }
   ],
   "source": [
    "a = 10\n",
    "b = 3.45\n",
    "c = \"shj\"\n",
    "d = True\n",
    "e = None\n",
    "print(type(a))\n",
    "print(type(b))\n",
    "print(type(c))\n",
    "print(type(d))\n",
    "print(type(e))"
   ]
  },
  {
   "cell_type": "code",
   "execution_count": 14,
   "id": "2201417d",
   "metadata": {},
   "outputs": [
    {
     "data": {
      "text/plain": [
       "int"
      ]
     },
     "execution_count": 14,
     "metadata": {},
     "output_type": "execute_result"
    }
   ],
   "source": [
    "type(a)"
   ]
  },
  {
   "cell_type": "markdown",
   "id": "b05c7d0e",
   "metadata": {},
   "source": [
    "type of sequence "
   ]
  },
  {
   "cell_type": "code",
   "execution_count": 18,
   "id": "3551e67a",
   "metadata": {},
   "outputs": [
    {
     "name": "stdout",
     "output_type": "stream",
     "text": [
      "<class 'str'>\n",
      "<class 'list'>\n",
      "<class 'tuple'>\n",
      "<class 'set'>\n",
      "<class 'dict'>\n"
     ]
    }
   ],
   "source": [
    "str = \"hello\"\n",
    "fruits =[\"banana\",\"apple\",78,65]\n",
    "t_tuple = (\"hello \",\"how\",\"are\",\"you\",89)\n",
    "sets = {10,30,\"hello\"}\n",
    "dictionary = {\"name\":\"chandrachud siddharth\",\n",
    "              \"age\":19,\n",
    "               \"class\":12}\n",
    "print(type(str))\n",
    "print(type(fruits))\n",
    "print(type(t_tuple))   #tuple value  can't be changed neither pop nor push\n",
    "print(type(sets))        #sets have distinct object\n",
    "print(type(dictionary)) # dictionary{key:value}"
   ]
  },
  {
   "cell_type": "markdown",
   "id": "90df5726",
   "metadata": {},
   "source": [
    "List in pyhton"
   ]
  },
  {
   "cell_type": "code",
   "execution_count": null,
   "id": "2fccdbe1",
   "metadata": {},
   "outputs": [],
   "source": []
  },
  {
   "cell_type": "markdown",
   "id": "8a143c72",
   "metadata": {},
   "source": [
    "list = [1,2,3,4,5]                                                           \n",
    "index =[0,1,2,3,4]                                                           \n",
    "-ve_index=[-5,-4,-3,-2,-1]\n",
    "\n"
   ]
  },
  {
   "cell_type": "code",
   "execution_count": 19,
   "id": "b40f5f25",
   "metadata": {},
   "outputs": [
    {
     "name": "stdout",
     "output_type": "stream",
     "text": [
      "1\n",
      "hello\n",
      "[4]\n"
     ]
    }
   ],
   "source": [
    "l = [1,2,3,4,\"hello\"]\n",
    "print(l[0])\n",
    "print(l[-1])\n",
    "print([l[-2]])"
   ]
  },
  {
   "cell_type": "markdown",
   "id": "01064310",
   "metadata": {},
   "source": [
    "LIST FUNCTION\n"
   ]
  },
  {
   "cell_type": "code",
   "execution_count": 20,
   "id": "0611adfc",
   "metadata": {},
   "outputs": [
    {
     "name": "stdout",
     "output_type": "stream",
     "text": [
      "[1, 2, 3, 4, 5, 5, 'hello']\n",
      "[1, 2, 3, 4, 5, 5, 'hello', 30]\n",
      "[1, 15, 2, 3, 4, 5, 5, 'hello', 30]\n",
      "True\n",
      "2\n",
      "5\n",
      "2\n",
      "30\n",
      "[1, 15, 2, 3, 4, 5, 'hello']\n",
      "3\n",
      "[1, 15, 2, 4, 5, 'hello']\n",
      "[1, 2, 4, 'hello']\n"
     ]
    }
   ],
   "source": [
    "# Initial list with integers and a string\n",
    "l = [1, 2, 3, 4, 5, 5, \"hello\"]  \n",
    "print(l)   # Output: [1, 2, 3, 4, 5, 5, 'hello']\n",
    "\n",
    "# append(x) → Adds element at the END of the list\n",
    "l.append(30)  \n",
    "print(l)   # Output: [1, 2, 3, 4, 5, 5, 'hello', 30]\n",
    "\n",
    "# insert(index, value) → Inserts element at a specific position\n",
    "l.insert(1, 15)  \n",
    "print(l)   # Output: [1, 15, 2, 3, 4, 5, 5, 'hello', 30]\n",
    "\n",
    "# in keyword → Checks if element exists in the list, returns True/False\n",
    "print(15 in l)   # True because 15 exists\n",
    "\n",
    "# count(x) → Returns how many times x appears\n",
    "print(l.count(5))   # 2 because '5' appears twice\n",
    "\n",
    "# index(x) → Returns the first index of element x\n",
    "print(l.index(5))   # 5 → (the first 5 is at index 5)\n",
    "\n",
    "# index(x, start, end) → Search for x between start and end-1\n",
    "print(l.index(2, 0, 3))  # 2 → because '2' is at index 2 within given range\n",
    "\n",
    "# remove(x) → Removes the FIRST occurrence of element x\n",
    "l.remove(5)  \n",
    "# Now only one '5' left in the list\n",
    "\n",
    "# pop() → Removes LAST element and RETURNS it\n",
    "print(l.pop())   # Removes and returns 30\n",
    "print(l)   # Output: [1, 15, 2, 3, 4, 5, 'hello']\n",
    "\n",
    "# pop(index) → Removes element at given index and RETURNS it\n",
    "print(l.pop(3))   # Removes element at index 3 → '3'\n",
    "print(l)   # Output: [1, 15, 2, 4, 5, 'hello']\n",
    "\n",
    "# del keyword → Deletes elements, DOES NOT return anything\n",
    "del l[1]      # Deletes element at index 1 → '15'\n",
    "del l[3:4]    # Deletes elements in range [3,4) → only index 3 → '5'\n",
    "print(l)   # Final Output: [1, 2, 4, 'hello']\n",
    "\n",
    "\n",
    "\n"
   ]
  },
  {
   "cell_type": "markdown",
   "id": "3ce6a617",
   "metadata": {},
   "source": []
  },
  {
   "cell_type": "code",
   "execution_count": null,
   "id": "5d1484f7",
   "metadata": {},
   "outputs": [
    {
     "name": "stdout",
     "output_type": "stream",
     "text": [
      "5\n",
      "1\n",
      "15\n",
      "[1, 2, 3, 4, 5]\n",
      "[5, 4, 3, 2, 1]\n",
      "[1, 2, 3, 4, 5]\n"
     ]
    }
   ],
   "source": [
    "# Initial list of integers\n",
    "l = [1, 2, 3, 4, 5]\n",
    "\n",
    "# max(list) → Returns the largest element\n",
    "print(max(l))   # Output: 5\n",
    "\n",
    "# min(list) → Returns the smallest element\n",
    "print(min(l))   # Output: 1\n",
    "\n",
    "# sum(list) → Returns the sum of all elements (only works if all are numbers)\n",
    "print(sum(l))   # Output: 15 (1+2+3+4+5)\n",
    "\n",
    "# Print original list\n",
    "print(l)   # Output: [1, 2, 3, 4, 5]\n",
    "\n",
    "# reverse() → Reverses the list in-place\n",
    "l.reverse()\n",
    "print(l)   # Output: [5, 4, 3, 2, 1]\n",
    "\n",
    "# sort() → Sorts the list in ascending order (numbers small→big, strings A→Z)\n",
    "l.sort()\n",
    "print(l)   # Output: [1, 2, 3, 4, 5]\n"
   ]
  },
  {
   "cell_type": "markdown",
   "id": "f82c03c1",
   "metadata": {},
   "source": [
    "\n",
    "\n",
    "### ⚡ Important Notes:\n",
    "\n",
    "1. **`max`, `min`, `sum`**\n",
    "\n",
    "   * Work only if all elements are of the same type:\n",
    "\n",
    "     * ✅ All numbers (int, float)\n",
    "     * ✅ All strings (compares alphabetically: `\"z\" > \"a\"`)\n",
    "     * ❌ Mixed types (e.g., `[1, \"a\", 3]`) → `TypeError`\n",
    "\n",
    "   Example:\n",
    "\n",
    "   ```python\n",
    "   print(max([\"cat\", \"apple\", \"dog\"]))  # Output: 'dog' (alphabetical order)\n",
    "   print(min([\"cat\", \"apple\", \"dog\"]))  # Output: 'apple'\n",
    "   # sum([\"a\",\"b\"]) → ❌ Error (can't add strings)\n",
    "   ```\n",
    "\n",
    "2. **`reverse`**\n",
    "\n",
    "   * Just flips the list order, works for any type (numbers, strings, mixed).\n",
    "   * Doesn’t care about sorting.\n",
    "\n",
    "3. **`sort`**\n",
    "\n",
    "   * Works if all elements are **comparable** (all numbers OR all strings).\n",
    "   * ❌ Mixed types (like `[1, \"a\", 3]`) will raise `TypeError`.\n",
    "   * By default sorts **ascending order**:\n",
    "\n",
    "     * Numbers: `1 < 2 < 3`\n",
    "     * Strings: `\"apple\" < \"banana\" < \"cat\"`\n",
    "\n",
    "\n"
   ]
  },
  {
   "cell_type": "markdown",
   "id": "ae902703",
   "metadata": {},
   "source": [
    "\n",
    "---\n",
    "\n",
    "## 🔹 **Tuples in Python**\n",
    "\n",
    "* **Definition**: A tuple is an **ordered collection** of elements, just like a list, but **immutable** (cannot be changed once created).\n",
    "* **Syntax**: Created using parentheses `()` instead of square brackets `[]`.\n",
    "\n",
    "```python\n",
    "# Creating tuples\n",
    "t1 = (1, 2, 3)  \n",
    "t2 = (\"apple\", \"banana\", \"cherry\")  \n",
    "t3 = (1, \"hello\", 3.5, True)   # mixed data types allowed\n",
    "\n",
    "print(t1)   # (1, 2, 3)\n",
    "```\n",
    "\n",
    "---\n",
    "\n",
    "## 🔹 **Key Properties**\n",
    "\n",
    "1. **Immutable**\n",
    "\n",
    "   * You cannot **add, remove, or change** elements in a tuple.\n",
    "\n",
    "   ```python\n",
    "   t = (1, 2, 3)\n",
    "   # t[0] = 10   ❌ Error (tuples don't support item assignment)\n",
    "   ```\n",
    "\n",
    "2. **Faster than lists**\n",
    "\n",
    "   * Since tuples are immutable, Python can optimize their storage and performance.\n",
    "   * Tuples are often used for **fixed collections** of data (like coordinates, database records).\n",
    "\n",
    "3. **Indexing & Slicing work** (just like lists)\n",
    "\n",
    "   ```python\n",
    "   t = (10, 20, 30, 40, 50)\n",
    "   print(t[0])      # 10 (first element)\n",
    "   print(t[-1])     # 50 (last element)\n",
    "   print(t[1:4])    # (20, 30, 40)\n",
    "   ```\n",
    "\n",
    "4. **Supports built-in functions** (only read-only ones, since they’re immutable):\n",
    "\n",
    "   ```python\n",
    "   t = (1, 2, 2, 3, 5)\n",
    "   print(len(t))      # 5\n",
    "   print(max(t))      # 5\n",
    "   print(min(t))      # 1\n",
    "   print(t.count(2))  # 2\n",
    "   print(t.index(3))  # 3\n",
    "   ```\n",
    "\n",
    "---\n",
    "\n",
    "## 🔹 **Tuple vs List**\n",
    "\n",
    "| Feature        | List (`[]`)                     | Tuple (`()`)                    |\n",
    "| -------------- | ------------------------------- | ------------------------------- |\n",
    "| **Mutability** | Mutable (can add/remove/change) | Immutable (cannot change)       |\n",
    "| **Speed**      | Slower                          | Faster                          |\n",
    "| **Memory**     | Uses more memory                | Uses less memory                |\n",
    "| **Use case**   | Dynamic data (changes often)    | Fixed data (constants, records) |\n",
    "\n",
    "---\n",
    "\n",
    "✅ **When to use tuple?**\n",
    "\n",
    "* Coordinates: `(x, y, z)`\n",
    "* Database rows (fixed values per record)\n",
    "* Keys in dictionaries (since tuples are hashable but lists are not)\n",
    "\n",
    "```python\n",
    "location = (28.6139, 77.2090)  # (latitude, longitude)\n",
    "student = (\"Alice\", 20, \"Maths\")  # fixed record\n",
    "```\n",
    "\n",
    "---\n",
    "\n",
    "👉 Do you want me to also show a **small benchmark code** comparing speed of list vs tuple operations, so you can see why tuples are faster?\n",
    "                                                            "
   ]
  },
  {
   "cell_type": "markdown",
   "id": "5866615f",
   "metadata": {},
   "source": []
  },
  {
   "cell_type": "code",
   "execution_count": 25,
   "id": "5afdd4e2",
   "metadata": {},
   "outputs": [
    {
     "name": "stdout",
     "output_type": "stream",
     "text": [
      "(10, 20, 30)\n",
      "<class 'tuple'>\n",
      "<class 'int'>\n",
      "<class 'tuple'>\n"
     ]
    }
   ],
   "source": [
    "t = (10,20,30)\n",
    "print(t)\n",
    "t = ()\n",
    "print(type(t))\n",
    "t = (11)\n",
    "print(type(t))\n",
    "# single element in tuple is created by \n",
    "t = (1,)\n",
    "print(type(t))"
   ]
  },
  {
   "cell_type": "markdown",
   "id": "0ef78ba7",
   "metadata": {},
   "source": [
    "function in tuple\n"
   ]
  },
  {
   "cell_type": "code",
   "execution_count": 27,
   "id": "68823e79",
   "metadata": {},
   "outputs": [
    {
     "name": "stdout",
     "output_type": "stream",
     "text": [
      "3\n",
      "4\n",
      "(2, 3)\n",
      "4\n",
      "1\n",
      "1\n"
     ]
    }
   ],
   "source": [
    "t = 1,2,3,4 # without parentheses creating tuple\n",
    "print(t[2])\n",
    "print(t[-1])\n",
    "print(t[1:3])\n",
    "print(len(t))\n",
    "print(t.count(4))\n",
    "print(t.index(2))"
   ]
  },
  {
   "cell_type": "code",
   "execution_count": null,
   "id": "4d584339",
   "metadata": {},
   "outputs": [],
   "source": []
  }
 ],
 "metadata": {
  "kernelspec": {
   "display_name": "base",
   "language": "python",
   "name": "python3"
  },
  "language_info": {
   "codemirror_mode": {
    "name": "ipython",
    "version": 3
   },
   "file_extension": ".py",
   "mimetype": "text/x-python",
   "name": "python",
   "nbconvert_exporter": "python",
   "pygments_lexer": "ipython3",
   "version": "3.13.5"
  }
 },
 "nbformat": 4,
 "nbformat_minor": 5
}
