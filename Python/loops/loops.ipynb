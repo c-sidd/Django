{
 "cells": [
  {
   "cell_type": "markdown",
   "id": "cd8aaf90",
   "metadata": {},
   "source": [
    "# While loops\n",
    "and the statment in while loop are in intended(white space in the begining)"
   ]
  },
  {
   "cell_type": "code",
   "execution_count": 1,
   "id": "457735fd",
   "metadata": {},
   "outputs": [
    {
     "name": "stdout",
     "output_type": "stream",
     "text": [
      "Hello World\n",
      "Hello World\n",
      "Hello World\n",
      "Hello World\n",
      "Hello World\n",
      "Hello World\n",
      "Hello World\n",
      "Hello World\n",
      "Hello World\n",
      "Hello World\n"
     ]
    }
   ],
   "source": [
    "i=0\n",
    "while i<10:\n",
    "    print(\"Hello World\")\n",
    "    i=i+1\n",
    "    "
   ]
  },
  {
   "cell_type": "markdown",
   "id": "ad7a78dc",
   "metadata": {},
   "source": [
    "# Range in python\n"
   ]
  },
  {
   "cell_type": "markdown",
   "id": "79a2f9d7",
   "metadata": {},
   "source": [
    "1/3 form"
   ]
  },
  {
   "cell_type": "code",
   "execution_count": null,
   "id": "5af48db2",
   "metadata": {},
   "outputs": [
    {
     "name": "stdout",
     "output_type": "stream",
     "text": [
      "range(0, 5)\n",
      "[0, 1, 2, 3, 4]\n",
      "<class 'range'>\n"
     ]
    }
   ],
   "source": [
    "r = range(5) # it gives 0 to 5 \n",
    "print(r)       # it gives 0 to x-1;\n",
    "l= list(r)\n",
    "print(l)\n",
    "print(type(r)) # it gives of type range"
   ]
  },
  {
   "cell_type": "markdown",
   "id": "1a193aa9",
   "metadata": {},
   "source": [
    "2/3form\n"
   ]
  },
  {
   "cell_type": "code",
   "execution_count": 5,
   "id": "764e4108",
   "metadata": {},
   "outputs": [
    {
     "name": "stdout",
     "output_type": "stream",
     "text": [
      "[10, 11, 12, 13, 14, 15, 16, 17, 18, 19]\n"
     ]
    }
   ],
   "source": [
    "r = range(10,20)  # RANGE WITH TWO Parameter  and it gives range from 10 to 19\n",
    "l = list(r)\n",
    "print(l)"
   ]
  },
  {
   "cell_type": "code",
   "execution_count": 6,
   "id": "180c4ed8",
   "metadata": {},
   "outputs": [
    {
     "name": "stdout",
     "output_type": "stream",
     "text": [
      "[-5, -4, -3, -2, -1, 0, 1, 2, 3, 4, 5, 6]\n"
     ]
    }
   ],
   "source": [
    "r  = range(-5,7)\n",
    "l = list(r)\n",
    "print(l)"
   ]
  },
  {
   "cell_type": "markdown",
   "id": "bf807764",
   "metadata": {},
   "source": [
    "3/3 form (with three parameters )"
   ]
  },
  {
   "cell_type": "code",
   "execution_count": 7,
   "id": "21dea7cf",
   "metadata": {},
   "outputs": [
    {
     "name": "stdout",
     "output_type": "stream",
     "text": [
      "[10, 12, 14, 16, 18]\n"
     ]
    }
   ],
   "source": [
    "r = range(10,20,2) #its like x , x+z .. till x<y\n",
    "l =list(r)\n",
    "print(l)"
   ]
  },
  {
   "cell_type": "code",
   "execution_count": 8,
   "id": "f3ba3cf6",
   "metadata": {},
   "outputs": [
    {
     "ename": "NameError",
     "evalue": "name 'start' is not defined",
     "output_type": "error",
     "traceback": [
      "\u001b[1;31m---------------------------------------------------------------------------\u001b[0m",
      "\u001b[1;31mNameError\u001b[0m                                 Traceback (most recent call last)",
      "Cell \u001b[1;32mIn[8], line 1\u001b[0m\n\u001b[1;32m----> 1\u001b[0m \u001b[38;5;28mrange\u001b[39m(start, stop, step)\n",
      "\u001b[1;31mNameError\u001b[0m: name 'start' is not defined"
     ]
    }
   ],
   "source": [
    "range(start, stop, step)\n"
   ]
  },
  {
   "cell_type": "markdown",
   "id": "08fff16e",
   "metadata": {},
   "source": [
    "# For loop "
   ]
  },
  {
   "cell_type": "markdown",
   "id": "6ebb5b2f",
   "metadata": {},
   "source": [
    "for x in seq :\n",
    "    <br>\n",
    "    statement 1\n",
    "    <br>\n",
    "    statement 2\n",
    "    <br>\n",
    "    staatement 3\n",
    "    <br>\n",
    "    seq can be list strig ,tuple,dictionary;"
   ]
  },
  {
   "cell_type": "code",
   "execution_count": 9,
   "id": "ab4b6302",
   "metadata": {},
   "outputs": [
    {
     "name": "stdout",
     "output_type": "stream",
     "text": [
      "1\n",
      "2\n",
      "3\n",
      "4\n",
      "5\n",
      "6\n"
     ]
    }
   ],
   "source": [
    "l = [1,2,3,4,5,6]\n",
    "for x in l:\n",
    "    print(x)"
   ]
  },
  {
   "cell_type": "code",
   "execution_count": 11,
   "id": "2dda7b37",
   "metadata": {},
   "outputs": [
    {
     "name": "stdout",
     "output_type": "stream",
     "text": [
      "h\n",
      "e\n",
      "l\n",
      "l\n",
      "o\n"
     ]
    }
   ],
   "source": [
    "s = \"hello\"\n",
    "for x in s:\n",
    "    print(x)"
   ]
  },
  {
   "cell_type": "code",
   "execution_count": 12,
   "id": "401b5876",
   "metadata": {},
   "outputs": [
    {
     "name": "stdout",
     "output_type": "stream",
     "text": [
      "0\n",
      "1\n",
      "2\n",
      "3\n",
      "4\n",
      "5\n",
      "6\n",
      "7\n",
      "8\n",
      "9\n"
     ]
    }
   ],
   "source": [
    "for x in range(10):\n",
    "   print(x)"
   ]
  },
  {
   "cell_type": "code",
   "execution_count": 18,
   "id": "010d2f10",
   "metadata": {},
   "outputs": [
    {
     "name": "stdout",
     "output_type": "stream",
     "text": [
      "0\n",
      "6\n",
      "12\n",
      "18\n"
     ]
    }
   ],
   "source": [
    "for x in range(20):\n",
    "    if x%6==0:\n",
    "      print(x)\n"
   ]
  },
  {
   "cell_type": "markdown",
   "id": "3d2064ba",
   "metadata": {},
   "source": []
  },
  {
   "cell_type": "code",
   "execution_count": null,
   "id": "97362d07",
   "metadata": {},
   "outputs": [],
   "source": []
  }
 ],
 "metadata": {
  "kernelspec": {
   "display_name": "base",
   "language": "python",
   "name": "python3"
  },
  "language_info": {
   "codemirror_mode": {
    "name": "ipython",
    "version": 3
   },
   "file_extension": ".py",
   "mimetype": "text/x-python",
   "name": "python",
   "nbconvert_exporter": "python",
   "pygments_lexer": "ipython3",
   "version": "3.13.5"
  }
 },
 "nbformat": 4,
 "nbformat_minor": 5
}
