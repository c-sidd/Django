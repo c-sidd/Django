{
 "cells": [
  {
   "cell_type": "markdown",
   "id": "b120538b",
   "metadata": {},
   "source": [
    "# break\n"
   ]
  },
  {
   "cell_type": "code",
   "execution_count": null,
   "id": "ca060ac9",
   "metadata": {},
   "outputs": [
    {
     "name": "stdout",
     "output_type": "stream",
     "text": [
      "9\n"
     ]
    }
   ],
   "source": [
    "# linear serach\n",
    "l = [1,209,356,4526,251,5,1,344,435,26,2,23465]\n",
    "i =1\n",
    "for x in l:\n",
    "    i=i+1\n",
    "    if x == 344:\n",
    "        print(i)\n",
    "        break"
   ]
  },
  {
   "cell_type": "markdown",
   "id": "1e2b81b1",
   "metadata": {},
   "source": [
    "Continue\n"
   ]
  },
  {
   "cell_type": "code",
   "execution_count": 8,
   "id": "8005c498",
   "metadata": {},
   "outputs": [
    {
     "name": "stdout",
     "output_type": "stream",
     "text": [
      "1 2 3  4  4 5   6  5345 245  25   \n",
      "['1', '2', '3', '4', '4', '5', '6', '5345', '245', '25']\n"
     ]
    }
   ],
   "source": [
    "l = input(\"Enter a list\")\n",
    "li = l.split()\n",
    "print(l)\n",
    "print(li)\n"
   ]
  },
  {
   "cell_type": "code",
   "execution_count": 9,
   "id": "57c7a940",
   "metadata": {},
   "outputs": [
    {
     "name": "stdout",
     "output_type": "stream",
     "text": [
      "14\n",
      "16\n",
      "17\n",
      "18\n"
     ]
    }
   ],
   "source": [
    "l =[10,14,15,16,17,18]\n",
    "for x in l :\n",
    "    if x%5==0:\n",
    "        continue\n",
    "    print(x)"
   ]
  },
  {
   "cell_type": "markdown",
   "id": "ff0c760a",
   "metadata": {},
   "source": [
    "\n",
    "\n",
    "## 🔹 `continue`\n",
    "\n",
    "* Skips the **rest of the code inside the loop** for the current iteration.\n",
    "* Moves control back to the beginning of the loop (next iteration).\n",
    "\n",
    "### Example:\n",
    "\n",
    "```python\n",
    "for i in range(5):\n",
    "    if i == 2:\n",
    "        continue   # skip when i = 2\n",
    "    print(i)\n",
    "```\n",
    "\n",
    "**Output:**\n",
    "\n",
    "```\n",
    "0\n",
    "1\n",
    "3\n",
    "4\n",
    "```\n",
    "\n",
    "👉 Notice `2` is skipped.\n",
    "\n",
    "---\n",
    "\n",
    "## 🔹 `pass`\n",
    "\n",
    "* **Does nothing**.\n",
    "* It’s just a **placeholder** when you need a statement but don’t want any action.\n",
    "* Useful in defining empty functions, classes, or loops.\n",
    "\n",
    "### Example:\n",
    "\n",
    "```python\n",
    "for i in range(5):\n",
    "    if i == 2:\n",
    "        pass   # do nothing\n",
    "    print(i)\n",
    "```\n",
    "\n",
    "**Output:**\n",
    "\n",
    "```\n",
    "0\n",
    "1\n",
    "2\n",
    "3\n",
    "4\n",
    "```\n",
    "\n",
    "👉 Here `2` is not skipped. The loop runs normally — `pass` just acts like a \"do nothing\" statement.\n",
    "\n",
    "---\n",
    "\n",
    "## ✅ Quick Comparison\n",
    "\n",
    "| Keyword      | Effect                                           |\n",
    "| ------------ | ------------------------------------------------ |\n",
    "| **continue** | Skips current iteration and goes to the next one |\n",
    "| **pass**     | Does nothing, just a placeholder                 |\n",
    "\n",
    "---\n"
   ]
  },
  {
   "cell_type": "code",
   "execution_count": null,
   "id": "60c3d507",
   "metadata": {},
   "outputs": [],
   "source": []
  }
 ],
 "metadata": {
  "kernelspec": {
   "display_name": "base",
   "language": "python",
   "name": "python3"
  },
  "language_info": {
   "codemirror_mode": {
    "name": "ipython",
    "version": 3
   },
   "file_extension": ".py",
   "mimetype": "text/x-python",
   "name": "python",
   "nbconvert_exporter": "python",
   "pygments_lexer": "ipython3",
   "version": "3.13.5"
  }
 },
 "nbformat": 4,
 "nbformat_minor": 5
}
