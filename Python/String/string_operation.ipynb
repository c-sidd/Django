{
 "cells": [
  {
   "cell_type": "markdown",
   "id": "5da34341",
   "metadata": {},
   "source": [
    "# 1) check for substring"
   ]
  },
  {
   "cell_type": "markdown",
   "id": "f0659278",
   "metadata": {},
   "source": [
    "substring is some part of stirng like geeks in geeks for geeks\n",
    " *  and it should be in consecutive \n",
    " * we use in operator(membership operator)"
   ]
  },
  {
   "cell_type": "code",
   "execution_count": 2,
   "id": "beb6fade",
   "metadata": {},
   "outputs": [
    {
     "name": "stdout",
     "output_type": "stream",
     "text": [
      "True\n",
      "False\n"
     ]
    }
   ],
   "source": [
    "s1 = 'geeksforgeeks'\n",
    "s2 ='geeks'\n",
    "print(s2 in s1)\n",
    "print(s2 not in s1)"
   ]
  },
  {
   "cell_type": "markdown",
   "id": "ffcbd325",
   "metadata": {},
   "source": [
    "# 2)concatation of a string\n",
    "* we use + operator for adding"
   ]
  },
  {
   "cell_type": "code",
   "execution_count": 6,
   "id": "6ba60f9a",
   "metadata": {},
   "outputs": [
    {
     "name": "stdout",
     "output_type": "stream",
     "text": [
      "chandrachudsiddharth\n"
     ]
    }
   ],
   "source": [
    "s1 = 'chandrachud'\n",
    "s2 = 'siddharth'\n",
    "s3 = s1+s2\n",
    "print(s1+s2)"
   ]
  },
  {
   "cell_type": "markdown",
   "id": "2ca60c88",
   "metadata": {},
   "source": [
    "# 3) finding Position of a Substring\n",
    "* if substring is not present it give a value error\n",
    "* we use .index() for searching\n",
    "* rindex()is used as searching right most position of string\n",
    "* s1.index(s2,0,13){it means search s2 in s1 in index between[0,13)}"
   ]
  },
  {
   "cell_type": "code",
   "execution_count": 7,
   "id": "9484eaba",
   "metadata": {},
   "outputs": [
    {
     "name": "stdout",
     "output_type": "stream",
     "text": [
      "0\n",
      "8\n",
      "0\n",
      "8\n"
     ]
    }
   ],
   "source": [
    "s1 = 'geeksforgeeks'\n",
    "s2 ='geeks'\n",
    "print(s1.index(s2))\n",
    "print(s1.rindex(s2))\n",
    "print(s1.index(s2,0,13))\n",
    "print(s1.index(s2,1,13))"
   ]
  },
  {
   "cell_type": "markdown",
   "id": "77f9d10a",
   "metadata": {},
   "source": [
    "\n",
    "# 4) length 0f string"
   ]
  },
  {
   "cell_type": "code",
   "execution_count": 8,
   "id": "06583343",
   "metadata": {},
   "outputs": [
    {
     "name": "stdout",
     "output_type": "stream",
     "text": [
      "5\n"
     ]
    }
   ],
   "source": [
    "s1 = 'geeks'\n",
    "print(len(s1))"
   ]
  },
  {
   "cell_type": "markdown",
   "id": "6effd4c4",
   "metadata": {},
   "source": [
    "# 5) upper()"
   ]
  },
  {
   "cell_type": "code",
   "execution_count": 10,
   "id": "051c2145",
   "metadata": {},
   "outputs": [
    {
     "name": "stdout",
     "output_type": "stream",
     "text": [
      "GEEKS\n"
     ]
    }
   ],
   "source": [
    "s2 = s1.upper()\n",
    "print(s2)"
   ]
  },
  {
   "cell_type": "markdown",
   "id": "7ce27752",
   "metadata": {},
   "source": [
    "# 6) lower()"
   ]
  },
  {
   "cell_type": "code",
   "execution_count": 11,
   "id": "b437d052",
   "metadata": {},
   "outputs": [
    {
     "name": "stdout",
     "output_type": "stream",
     "text": [
      "geeks\n"
     ]
    }
   ],
   "source": [
    "s3 = s2.lower()\n",
    "print(s3)"
   ]
  },
  {
   "cell_type": "markdown",
   "id": "007f6376",
   "metadata": {},
   "source": [
    "* islower() - used to check ever charchter is in lower case\n",
    "* isupper() - used to check every charchter is in upper case"
   ]
  },
  {
   "cell_type": "code",
   "execution_count": 13,
   "id": "1af24ea8",
   "metadata": {},
   "outputs": [
    {
     "name": "stdout",
     "output_type": "stream",
     "text": [
      "True\n",
      "False\n"
     ]
    }
   ],
   "source": [
    "print(s3.islower())\n",
    "print(s1.isupper())"
   ]
  },
  {
   "cell_type": "markdown",
   "id": "2fc8de9e",
   "metadata": {},
   "source": [
    "\n",
    "\n",
    "# 7) startwith() and endwith()\n",
    "\n",
    "🔹 **startswith()**\n",
    "\n",
    "* Checks if a string begins with a given character or substring.\n",
    "* Returns **True** if the string starts with the specified value, otherwise **False**.\n",
    "* Case-sensitive.\n",
    "\n",
    "🔹 **endswith()**\n",
    "\n",
    "* Checks if a string ends with a given character or substring.\n",
    "* Returns **True** if the string ends with the specified value, otherwise **False**.\n",
    "* Case-sensitive.\n",
    "\n",
    "🔹 **With a Range (Optional Parameters)**\n",
    "Both methods can take optional arguments:\n",
    "\n",
    "* `string.startswith(prefix, start, end)` → search between index `start` and `end - 1`.\n",
    "* `string.endswith(suffix, start, end)`   → search between index `start` and `end - 1`.\n",
    "\n",
    "✅ These methods help check **beginnings and endings** of strings easily, without slicing or manual comparison.\n",
    "\n"
   ]
  },
  {
   "cell_type": "code",
   "execution_count": 16,
   "id": "b6a02d3d",
   "metadata": {},
   "outputs": [
    {
     "name": "stdout",
     "output_type": "stream",
     "text": [
      "True\n",
      "True\n",
      "True\n",
      "True\n",
      "False\n",
      "False\n"
     ]
    }
   ],
   "source": [
    "s = 'geeksforgeeks'\n",
    "print(s.startswith('geeks'))\n",
    "print(s.endswith('geeks'))\n",
    "print(s.startswith('geeks',0,13))\n",
    "print(s.endswith('geeks',0,13))\n",
    "print(s.startswith('geeks',1,13))\n",
    "print(s.endswith('geeks',0,12))"
   ]
  },
  {
   "cell_type": "markdown",
   "id": "81cf3dd0",
   "metadata": {},
   "source": [
    "\n",
    "# 8) split() and join()\n",
    "\n",
    "🔹 **split()**\n",
    "\n",
    "* Splits a string into a **list of substrings** based on a given separator.\n",
    "* Default separator is **whitespace** (spaces, tabs, newlines).\n",
    "* You can also give a specific separator like `\",\"`, `\"-\"`, `\"|\"`, etc.\n",
    "* Optional argument `maxsplit` can be used to limit the number of splits.\n",
    "* Returns a **list**.\n",
    "\n",
    "🔹 **join()**\n",
    "\n",
    "* Joins elements of an **iterable (like list or tuple)** into a single string.\n",
    "* You must provide a separator (like `\" \"`, `\",\"`, `\"-\"`).\n",
    "* Works only with **strings** inside the iterable.\n",
    "* Returns a **string**.\n",
    "\n",
    "✅ These methods are mostly used for **breaking strings into parts (`split`)** and **rebuilding them (`join`)**.\n"
   ]
  },
  {
   "cell_type": "code",
   "execution_count": 22,
   "id": "3495b571",
   "metadata": {},
   "outputs": [
    {
     "name": "stdout",
     "output_type": "stream",
     "text": [
      "['geeks', 'for', 'geeks']\n",
      "['geeks for geeks']\n",
      "['geeks', 'for', 'geeks']\n",
      "['geek', ' for geek', '']\n"
     ]
    }
   ],
   "source": [
    "s1 =\"geeks for geeks\"\n",
    "print(s1.split())\n",
    "print(s1.split(\"-\"))\n",
    "print(s1.split(\" \"))\n",
    "print(s1.split('s'))"
   ]
  },
  {
   "cell_type": "code",
   "execution_count": 27,
   "id": "7e2dc2e2",
   "metadata": {},
   "outputs": [
    {
     "name": "stdout",
     "output_type": "stream",
     "text": [
      "geeksforgeeks\n",
      "geeks for geeks\n",
      "geeks-for-geeks\n"
     ]
    }
   ],
   "source": [
    "l =['geeks','for','geeks']\n",
    "print(\"\".join(l))\n",
    "print(\" \".join(l))\n",
    "print(\"-\".join(l))"
   ]
  },
  {
   "cell_type": "markdown",
   "id": "ac007e17",
   "metadata": {},
   "source": [
    "\n",
    "# 9) strip(), lstrip(), rstrip()\n",
    "\n",
    "🔹 **strip()**\n",
    "\n",
    "* Removes leading (from the start) and trailing (from the end) characters from a string.\n",
    "* By default, it removes **whitespace** (spaces, newlines, tabs).\n",
    "* You can also provide a specific set of characters to remove.\n",
    "\n",
    "🔹 **lstrip()**\n",
    "\n",
    "* Removes characters only from the **left side** (beginning) of the string.\n",
    "* Default is whitespace, but you can pass characters to remove.\n",
    "\n",
    "🔹 **rstrip()**\n",
    "\n",
    "* Removes characters only from the **right side** (end) of the string.\n",
    "* Default is whitespace, but you can pass characters to remove.\n",
    "\n"
   ]
  },
  {
   "cell_type": "code",
   "execution_count": 32,
   "id": "a4e4015f",
   "metadata": {},
   "outputs": [
    {
     "name": "stdout",
     "output_type": "stream",
     "text": [
      "geeks-for-geeks\n",
      "geeks-for-geeks-\n",
      "--geeks-for-geeks\n"
     ]
    }
   ],
   "source": [
    "s = \"--geeks-for-geeks-\"\n",
    "print(s.strip('-'))\n",
    "print(s.lstrip('-'))\n",
    "print(s.rstrip('-'))"
   ]
  },
  {
   "cell_type": "markdown",
   "id": "4d4917ee",
   "metadata": {},
   "source": [
    "# 10)find()\n",
    "* it gives the index of the string if the substring is present\n",
    "* it return -1 if it is not present(this makes diffrent from index funtion)"
   ]
  },
  {
   "cell_type": "code",
   "execution_count": 35,
   "id": "676e4e79",
   "metadata": {},
   "outputs": [
    {
     "name": "stdout",
     "output_type": "stream",
     "text": [
      "0\n",
      "-1\n",
      "8\n"
     ]
    }
   ],
   "source": [
    "s1 = \"geeksforgeeks\"\n",
    "s2 = \"geeks\"\n",
    "print(s1.find(s2))\n",
    "print(s1.find(\"gfg\"))\n",
    "print(s1.find('geeks',1,13))"
   ]
  },
  {
   "cell_type": "code",
   "execution_count": null,
   "id": "21514afd",
   "metadata": {},
   "outputs": [],
   "source": []
  }
 ],
 "metadata": {
  "kernelspec": {
   "display_name": "base",
   "language": "python",
   "name": "python3"
  },
  "language_info": {
   "codemirror_mode": {
    "name": "ipython",
    "version": 3
   },
   "file_extension": ".py",
   "mimetype": "text/x-python",
   "name": "python",
   "nbconvert_exporter": "python",
   "pygments_lexer": "ipython3",
   "version": "3.13.5"
  }
 },
 "nbformat": 4,
 "nbformat_minor": 5
}
