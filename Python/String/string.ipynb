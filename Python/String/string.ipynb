{
 "cells": [
  {
   "cell_type": "markdown",
   "id": "ea4b5735",
   "metadata": {},
   "source": [
    "# strinfs in pyhton\n",
    "* sequence of charachter\n",
    "* uused to stores text data read from file\n",
    "* Typically small set of charachter\n",
    "* charachter \"A\" to 'Z\" are stores as value from 65 to 90\n",
    "* charchter'a' to 'z' are stores from 97 to 122"
   ]
  },
  {
   "cell_type": "markdown",
   "id": "04486dd7",
   "metadata": {},
   "source": [
    "ord() and chr() function\n"
   ]
  },
  {
   "cell_type": "code",
   "execution_count": null,
   "id": "9ba14524",
   "metadata": {},
   "outputs": [],
   "source": []
  },
  {
   "cell_type": "code",
   "execution_count": 2,
   "id": "c3dbadc5",
   "metadata": {},
   "outputs": [
    {
     "name": "stdout",
     "output_type": "stream",
     "text": [
      "65\n",
      "e\n"
     ]
    }
   ],
   "source": [
    "print(ord(\"A\"))\n",
    "print(chr(101))"
   ]
  },
  {
   "cell_type": "markdown",
   "id": "3b371946",
   "metadata": {},
   "source": [
    "Multi line  string"
   ]
  },
  {
   "cell_type": "code",
   "execution_count": null,
   "id": "415ffdfa",
   "metadata": {},
   "outputs": [
    {
     "name": "stdout",
     "output_type": "stream",
     "text": [
      " hi ,\n",
      " my name is \n",
      "  chandrachud siddharth\n"
     ]
    }
   ],
   "source": [
    "s = \"\"\" hi ,\n",
    " my name is \n",
    " chandrachud siddharth\"\"\"\n",
    "print(s)"
   ]
  },
  {
   "cell_type": "markdown",
   "id": "dfe1a63e",
   "metadata": {},
   "source": [
    "Escape sequences in string \n",
    "* it is used to escape some charchter from a string\n",
    "* ex - like i want to put s single quotes between string so i use it"
   ]
  },
  {
   "cell_type": "code",
   "execution_count": 5,
   "id": "0d3821b7",
   "metadata": {},
   "outputs": [
    {
     "ename": "SyntaxError",
     "evalue": "unterminated string literal (detected at line 2) (550600205.py, line 2)",
     "output_type": "error",
     "traceback": [
      "\u001b[1;36m  Cell \u001b[1;32mIn[5], line 2\u001b[1;36m\u001b[0m\n\u001b[1;33m    s = 'hey,what's up'\u001b[0m\n\u001b[1;37m                      ^\u001b[0m\n\u001b[1;31mSyntaxError\u001b[0m\u001b[1;31m:\u001b[0m unterminated string literal (detected at line 2)\n"
     ]
    }
   ],
   "source": [
    "# without escape sequence \n",
    "s = 'hey,what's up'\n",
    "print(s)"
   ]
  },
  {
   "cell_type": "code",
   "execution_count": 7,
   "id": "a64dfad2",
   "metadata": {},
   "outputs": [
    {
     "name": "stdout",
     "output_type": "stream",
     "text": [
      "hey what's up\n"
     ]
    }
   ],
   "source": [
    "# with escape sequence\n",
    "s = 'hey what\\'s up'\n",
    "print(s)   # backslasch is used for escape next charachter"
   ]
  },
  {
   "cell_type": "code",
   "execution_count": 11,
   "id": "241d79b5",
   "metadata": {},
   "outputs": [
    {
     "name": "stdout",
     "output_type": "stream",
     "text": [
      "c:\\projects\n",
      "ame.py\n"
     ]
    }
   ],
   "source": [
    "s1 = 'c:\\projects\\name.py'\n",
    "print(s1)"
   ]
  },
  {
   "cell_type": "code",
   "execution_count": null,
   "id": "d3c0d2f8",
   "metadata": {},
   "outputs": [
    {
     "name": "stdout",
     "output_type": "stream",
     "text": [
      "c:\\projects\\name.py\n"
     ]
    }
   ],
   "source": [
    "# to solve the above problem , we use raw strings\n",
    "s2 = r\"c:\\projects\\name.py\" # \n",
    "print(s2)"
   ]
  },
  {
   "cell_type": "code",
   "execution_count": null,
   "id": "b7c7167e",
   "metadata": {},
   "outputs": [],
   "source": []
  }
 ],
 "metadata": {
  "kernelspec": {
   "display_name": "base",
   "language": "python",
   "name": "python3"
  },
  "language_info": {
   "codemirror_mode": {
    "name": "ipython",
    "version": 3
   },
   "file_extension": ".py",
   "mimetype": "text/x-python",
   "name": "python",
   "nbconvert_exporter": "python",
   "pygments_lexer": "ipython3",
   "version": "3.13.5"
  }
 },
 "nbformat": 4,
 "nbformat_minor": 5
}
