{
 "cells": [
  {
   "cell_type": "code",
   "execution_count": 2,
   "id": "1032c882",
   "metadata": {},
   "outputs": [
    {
     "name": "stdout",
     "output_type": "stream",
     "text": [
      "iuytr\n"
     ]
    }
   ],
   "source": [
    "a = input(\"Enter a string\")\n",
    "b =\"\"\n",
    "for i in a:\n",
    "    b = i + b\n",
    "print(b)"
   ]
  },
  {
   "cell_type": "markdown",
   "id": "b5ecbae4",
   "metadata": {},
   "source": [
    "2)\n"
   ]
  },
  {
   "cell_type": "code",
   "execution_count": 3,
   "id": "aadf6e6c",
   "metadata": {},
   "outputs": [
    {
     "name": "stdout",
     "output_type": "stream",
     "text": [
      "uoiiuy\n"
     ]
    }
   ],
   "source": [
    "a = input(\"Enter a string\")\n",
    "print(a[::-1])"
   ]
  },
  {
   "cell_type": "markdown",
   "id": "5db752f2",
   "metadata": {},
   "source": [
    "\n",
    "# 10) String Slicing\n",
    "\n",
    "🔹 **Definition**\n",
    "\n",
    "* Slicing allows you to extract a part (substring) from a string using indexes.\n",
    "* General syntax:\n",
    "\n",
    "  ```python\n",
    "  string[start : end : step]\n",
    "  ```\n",
    "\n",
    "  * `start` → index where slicing begins (inclusive).\n",
    "  * `end` → index where slicing ends (exclusive).\n",
    "  * `step` → interval/jump between characters (default is 1).\n",
    "\n",
    "---\n",
    "\n",
    "🔹 **Examples**\n",
    "\n",
    "```python\n",
    "s = \"geeks for geeks\"\n",
    "\n",
    "print(s[0:5])    # \"geeks\"   (from index 0 to 4)\n",
    "print(s[:5])     # \"geeks\"   (start is default = 0)\n",
    "print(s[6:])     # \"for geeks\" (till end)\n",
    "print(s[:])      # \"geeks for geeks\" (entire string)\n",
    "\n",
    "# Using step\n",
    "print(s[::2])    # \"gesfrges\" (every 2nd character)\n",
    "print(s[::-1])   # \"skeeg rof skeeg\" (reverse string)\n",
    "```\n",
    "\n",
    "---\n",
    "\n",
    "🔹 **Key Points**\n",
    "\n",
    "* If `start` is not given → defaults to `0`.\n",
    "* If `end` is not given → defaults to length of string.\n",
    "* Negative indexes count from the **end** (`-1` = last character).\n",
    "* `step` can be negative (used for reversing).\n",
    "\n",
    "\n"
   ]
  },
  {
   "cell_type": "markdown",
   "id": "cabddca4",
   "metadata": {},
   "source": []
  }
 ],
 "metadata": {
  "kernelspec": {
   "display_name": "base",
   "language": "python",
   "name": "python3"
  },
  "language_info": {
   "codemirror_mode": {
    "name": "ipython",
    "version": 3
   },
   "file_extension": ".py",
   "mimetype": "text/x-python",
   "name": "python",
   "nbconvert_exporter": "python",
   "pygments_lexer": "ipython3",
   "version": "3.13.5"
  }
 },
 "nbformat": 4,
 "nbformat_minor": 5
}
