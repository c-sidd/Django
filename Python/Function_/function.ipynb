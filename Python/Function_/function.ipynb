{
 "cells": [
  {
   "cell_type": "code",
   "execution_count": 2,
   "id": "3945b7eb",
   "metadata": {},
   "outputs": [
    {
     "name": "stdout",
     "output_type": "stream",
     "text": [
      "15-7-34\n",
      "31-5-6\n"
     ]
    }
   ],
   "source": [
    "def date(a,b,c):\n",
    "    print(a,b,c,sep=\"-\")\n",
    "date(15,7,34)\n",
    "date(31,5,6)"
   ]
  },
  {
   "cell_type": "markdown",
   "id": "d494f0b7",
   "metadata": {},
   "source": [
    "# default argument\n",
    " * In Python, default arguments in a function mean that if you don’t provide a value for a parameter, the function will use a default value."
   ]
  },
  {
   "cell_type": "code",
   "execution_count": 4,
   "id": "9d96acb5",
   "metadata": {
    "vscode": {
     "languageId": "ruby"
    }
   },
   "outputs": [
    {
     "name": "stdout",
     "output_type": "stream",
     "text": [
      "ID is 101\n",
      "Name is Maggie\n",
      "Price is Not known\n",
      "ID is 102\n",
      "Name is chocate\n",
      "Price is 56\n",
      "ID is 103\n",
      "Name is toothbrush\n",
      "Price is 89\n"
     ]
    }
   ],
   "source": [
    "def print_details(id,name=\"NA\",price=\"Not known\"):\n",
    "    print(f\"ID is {id}\")\n",
    "    print(f\"Name is {name}\")\n",
    "    print(f\"Price is {price}\")\n",
    "print_details(101,\"Maggie\")\n",
    "print_details(102,\"chocate\",56)\n",
    "print_details(103,\"toothbrush\",89)\n"
   ]
  },
  {
   "cell_type": "markdown",
   "id": "cf237082",
   "metadata": {},
   "source": [
    "# Keyword arguments\n"
   ]
  },
  {
   "cell_type": "code",
   "execution_count": 6,
   "id": "d6a65252",
   "metadata": {
    "vscode": {
     "languageId": "ruby"
    }
   },
   "outputs": [
    {
     "name": "stdout",
     "output_type": "stream",
     "text": [
      "ID is 101\n",
      "Name is Maggie\n",
      "Price is Not known\n",
      "ID is 102\n",
      "Name is chocate\n",
      "Price is 56\n",
      "ID is 103\n",
      "Name is toothbrush\n",
      "Price is 89\n",
      "ID is 104\n",
      "Name is NA\n",
      "Price is 90\n"
     ]
    }
   ],
   "source": [
    "def print_details(id,name=\"NA\",price=\"Not known\"):\n",
    "    print(f\"ID is {id}\")\n",
    "    print(f\"Name is {name}\")\n",
    "    print(f\"Price is {price}\")\n",
    "print_details(101,\"Maggie\")\n",
    "print_details(102,\"chocate\",56)\n",
    "print_details(103,\"toothbrush\",89)  # all three are positional argument \n",
    "print_details(id=104,price=90)   # this is keyword argument"
   ]
  },
  {
   "cell_type": "markdown",
   "id": "5ddcd16c",
   "metadata": {},
   "source": [
    "| Feature         | Positional Argument      | Keyword Argument     |\n",
    "| --------------- | ------------------------ | -------------------- |\n",
    "| **Order**       | Must be in correct order | Order doesn’t matter |\n",
    "| **Readability** | Less explicit            | More readable        |\n",
    "| **Flexibility** | Rigid                    | Flexible             |\n"
   ]
  },
  {
   "cell_type": "code",
   "execution_count": null,
   "id": "65425728",
   "metadata": {
    "vscode": {
     "languageId": "ruby"
    }
   },
   "outputs": [],
   "source": []
  }
 ],
 "metadata": {
  "kernelspec": {
   "display_name": "base",
   "language": "python",
   "name": "python3"
  },
  "language_info": {
   "codemirror_mode": {
    "name": "ipython",
    "version": 3
   },
   "file_extension": ".py",
   "mimetype": "text/x-python",
   "name": "python",
   "nbconvert_exporter": "python",
   "pygments_lexer": "ipython3",
   "version": "3.13.5"
  }
 },
 "nbformat": 4,
 "nbformat_minor": 5
}
