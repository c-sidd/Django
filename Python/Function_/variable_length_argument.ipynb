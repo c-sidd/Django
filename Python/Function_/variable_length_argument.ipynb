{
 "cells": [
  {
   "cell_type": "markdown",
   "id": "d60171ae",
   "metadata": {},
   "source": [
    "In Python, variable-length arguments let you pass an arbitrary number of arguments to a function."
   ]
  },
  {
   "cell_type": "markdown",
   "id": "62d8a2e3",
   "metadata": {},
   "source": [
    "\n",
    "\n",
    "## 🔹 1. `*args` → Variable-length **positional** arguments\n",
    "\n",
    "* Collects extra positional arguments into a **tuple**.\n",
    "* Useful when you don’t know in advance how many arguments will be passed.\n",
    "\n",
    "### Example:\n",
    "\n",
    "```python\n",
    "def add_numbers(*args):\n",
    "    print(\"Arguments:\", args)\n",
    "    print(\"Sum:\", sum(args))\n",
    "\n",
    "add_numbers(2, 4, 6)\n",
    "add_numbers(1, 2, 3, 4, 5)\n",
    "```\n",
    "\n",
    "**Output:**\n",
    "\n",
    "```\n",
    "Arguments: (2, 4, 6)\n",
    "Sum: 12\n",
    "Arguments: (1, 2, 3, 4, 5)\n",
    "Sum: 15\n",
    "```\n",
    "\n",
    "👉 Here, all extra arguments are packed into the tuple `args`.\n",
    "\n",
    "---\n",
    "\n",
    "## 🔹 2. `**kwargs` → Variable-length **keyword** arguments\n",
    "\n",
    "* Collects extra keyword arguments into a **dictionary**.\n",
    "* Useful when you want flexible named arguments.\n",
    "\n",
    "### Example:\n",
    "\n",
    "```python\n",
    "def student_info(**kwargs):\n",
    "    print(\"Details:\", kwargs)\n",
    "\n",
    "student_info(name=\"Rahul\", age=21, course=\"CS\")\n",
    "```\n",
    "\n",
    "**Output:**\n",
    "\n",
    "```\n",
    "Details: {'name': 'Rahul', 'age': 21, 'course': 'CS'}\n",
    "```\n",
    "\n",
    "👉 Here, all extra keyword arguments are packed into the dictionary `kwargs`.\n",
    "\n",
    "---\n",
    "\n",
    "## 🔹 3. Mixing Normal, `*args`, and `**kwargs`\n",
    "\n",
    "Order should always be:\n",
    "👉 \\*\\*normal args → \\*args → default args → **kwargs**\n",
    "\n",
    "### Example:\n",
    "\n",
    "```python\n",
    "def demo(a, b, *args, course=\"CS\", **kwargs):\n",
    "    print(\"a:\", a)\n",
    "    print(\"b:\", b)\n",
    "    print(\"args:\", args)\n",
    "    print(\"course:\", course)\n",
    "    print(\"kwargs:\", kwargs)\n",
    "\n",
    "demo(1, 2, 3, 4, 5, course=\"Maths\", name=\"Priya\", age=22)\n",
    "```\n",
    "\n",
    "**Output:**\n",
    "\n",
    "```\n",
    "a: 1\n",
    "b: 2\n",
    "args: (3, 4, 5)\n",
    "course: Maths\n",
    "kwargs: {'name': 'Priya', 'age': 22}\n",
    "```\n",
    "\n",
    "---\n",
    "\n",
    "✅ **Summary**\n",
    "\n",
    "* `*args` → collects extra positional arguments into a **tuple**.\n",
    "* `**kwargs` → collects extra keyword arguments into a **dictionary**.\n",
    "* You can use both together for maximum flexibility.\n",
    "\n"
   ]
  },
  {
   "cell_type": "code",
   "execution_count": 13,
   "id": "bf1791c7",
   "metadata": {},
   "outputs": [
    {
     "name": "stdout",
     "output_type": "stream",
     "text": [
      "10\n",
      "3\n",
      "9\n",
      "91\n"
     ]
    }
   ],
   "source": [
    "def sum(*numbers):\n",
    "    total=0;\n",
    "    for x in numbers:\n",
    "        total =total+ x\n",
    "    return total\n",
    "print(sum(1,2,3,4))\n",
    "print(sum(1,2))\n",
    "print(sum(2,3,4))\n",
    "print(sum(1,2,3,5,4,4,54,5,7,6,))"
   ]
  },
  {
   "cell_type": "markdown",
   "id": "362ee121",
   "metadata": {},
   "source": [
    "# Keyword variable length Argument"
   ]
  },
  {
   "cell_type": "code",
   "execution_count": 15,
   "id": "c74031ec",
   "metadata": {},
   "outputs": [
    {
     "name": "stdout",
     "output_type": "stream",
     "text": [
      "{'Name': 'chandrachud siddharth', 'roll': 62}\n"
     ]
    }
   ],
   "source": [
    "# this is used to pas key value pair\n",
    "def print_details(**details):\n",
    "    print(details)\n",
    "print_details(Name = \"chandrachud siddharth\",roll=62)\n",
    "    "
   ]
  },
  {
   "cell_type": "code",
   "execution_count": null,
   "id": "553690e6",
   "metadata": {},
   "outputs": [],
   "source": []
  }
 ],
 "metadata": {
  "kernelspec": {
   "display_name": "base",
   "language": "python",
   "name": "python3"
  },
  "language_info": {
   "codemirror_mode": {
    "name": "ipython",
    "version": 3
   },
   "file_extension": ".py",
   "mimetype": "text/x-python",
   "name": "python",
   "nbconvert_exporter": "python",
   "pygments_lexer": "ipython3",
   "version": "3.13.5"
  }
 },
 "nbformat": 4,
 "nbformat_minor": 5
}
