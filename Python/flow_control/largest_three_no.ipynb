{
 "cells": [
  {
   "cell_type": "code",
   "execution_count": 2,
   "id": "8ffdf64e",
   "metadata": {},
   "outputs": [
    {
     "name": "stdout",
     "output_type": "stream",
     "text": [
      "9 is largest\n"
     ]
    }
   ],
   "source": [
    "a = int(input(\"Enter First Number\"))\n",
    "b = int(input(\"Enter Second Number\"))\n",
    "c = int(input(\"Enter Third Number\"))\n",
    "\n",
    "if a>b :\n",
    "    if a>c:\n",
    "        print(f\"{a} is the largest\")\n",
    "    else:\n",
    "        print(f\"{c} is the largest\")\n",
    "else :\n",
    "    if b>c:\n",
    "        print(f\"{b} is largest\")      \n",
    "    else:\n",
    "        print(f\"{c} is largest\")      "
   ]
  },
  {
   "cell_type": "code",
   "execution_count": null,
   "id": "a09eef8c",
   "metadata": {},
   "outputs": [],
   "source": []
  }
 ],
 "metadata": {
  "kernelspec": {
   "display_name": "base",
   "language": "python",
   "name": "python3"
  },
  "language_info": {
   "codemirror_mode": {
    "name": "ipython",
    "version": 3
   },
   "file_extension": ".py",
   "mimetype": "text/x-python",
   "name": "python",
   "nbconvert_exporter": "python",
   "pygments_lexer": "ipython3",
   "version": "3.13.5"
  }
 },
 "nbformat": 4,
 "nbformat_minor": 5
}
