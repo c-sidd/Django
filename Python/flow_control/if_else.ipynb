{
 "cells": [
  {
   "cell_type": "markdown",
   "id": "e4c0738c",
   "metadata": {},
   "source": [
    "# If _else\n"
   ]
  },
  {
   "cell_type": "code",
   "execution_count": 4,
   "id": "cddd878f",
   "metadata": {},
   "outputs": [
    {
     "name": "stdout",
     "output_type": "stream",
     "text": [
      "The number is odd\n",
      "the number is odd\n"
     ]
    }
   ],
   "source": [
    "#even -odd\n",
    "a = int (input(\"Enter a number\"))\n",
    "if a%2==0:\n",
    " print(\"The number is Even\")\n",
    "else:\n",
    " print(\"The number is odd\")\n",
    "print(\"the nmber is even\") if a%2==0 else print(\"the number is odd\")"
   ]
  },
  {
   "cell_type": "code",
   "execution_count": null,
   "id": "8300ae6d",
   "metadata": {},
   "outputs": [
    {
     "name": "stdout",
     "output_type": "stream",
     "text": [
      "Zero\n",
      "Zero\n"
     ]
    }
   ],
   "source": [
    "#POSITIVE ,Negative , Zero \n",
    "# don't forget colon and spaces after if in next line\n",
    "n = int(input(\"Enter a number\"))\n",
    "if n>0:\n",
    "    print(\"Positive\")\n",
    "elif n<0:\n",
    "    print(\"Negative\")\n",
    "else: \n",
    "   print(\"Zero\")\n",
    "\n",
    "print(\"Positive\") if n>0 else  print(\"Negative\") if n<0 else print(\"Zero\")"
   ]
  },
  {
   "cell_type": "code",
   "execution_count": 9,
   "id": "1ada08e1",
   "metadata": {},
   "outputs": [
    {
     "name": "stdout",
     "output_type": "stream",
     "text": [
      "The winner is me \n"
     ]
    }
   ],
   "source": [
    "#Problem\n",
    "a = int(input(\"enter the total number of coin\"))\n",
    "print(\"The winner is me \") if a%2==1 else print(\"the winner is opponent\" \\\n",
    "\"\")"
   ]
  },
  {
   "cell_type": "code",
   "execution_count": null,
   "id": "422bba04",
   "metadata": {},
   "outputs": [],
   "source": []
  }
 ],
 "metadata": {
  "kernelspec": {
   "display_name": "base",
   "language": "python",
   "name": "python3"
  },
  "language_info": {
   "codemirror_mode": {
    "name": "ipython",
    "version": 3
   },
   "file_extension": ".py",
   "mimetype": "text/x-python",
   "name": "python",
   "nbconvert_exporter": "python",
   "pygments_lexer": "ipython3",
   "version": "3.13.5"
  }
 },
 "nbformat": 4,
 "nbformat_minor": 5
}
