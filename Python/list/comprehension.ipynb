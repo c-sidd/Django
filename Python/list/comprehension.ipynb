{
 "cells": [
  {
   "cell_type": "markdown",
   "id": "a728d68d",
   "metadata": {},
   "source": [
    "# What is List Comprehension?"
   ]
  },
  {
   "cell_type": "markdown",
   "id": "d6ae2d4e",
   "metadata": {},
   "source": [
    "It’s a short way to create a new list from an existing list (or any iterable), instead of using a for loop."
   ]
  },
  {
   "cell_type": "code",
   "execution_count": 1,
   "id": "a08f8e6a",
   "metadata": {},
   "outputs": [
    {
     "name": "stdout",
     "output_type": "stream",
     "text": [
      "[0, 2, 4, 6, 8, 10]\n",
      "[1, 3, 5, 7, 9]\n"
     ]
    }
   ],
   "source": [
    "l1 = [ x for x in range(11) if x%2 == 0]\n",
    "print(l1)\n",
    "l2 = [ x for x in range(11) if x%2!= 0]\n",
    "print(l2)"
   ]
  },
  {
   "cell_type": "code",
   "execution_count": 3,
   "id": "c73ae0e8",
   "metadata": {},
   "outputs": [
    {
     "name": "stdout",
     "output_type": "stream",
     "text": [
      "[1, 2, 3, 4, 5, 6]\n"
     ]
    }
   ],
   "source": [
    "def getsmaller(l,s):\n",
    "    l1 = [x for x in l if x<s]\n",
    "    return l1\n",
    "l = [1,2,3,4,5,6,7,8,9]\n",
    "x = 7\n",
    "print(getsmaller(l,x))"
   ]
  },
  {
   "cell_type": "code",
   "execution_count": 4,
   "id": "0a23b489",
   "metadata": {},
   "outputs": [
    {
     "name": "stdout",
     "output_type": "stream",
     "text": [
      "([2, 4, 6, 8], [1, 3, 5, 7, 9])\n"
     ]
    }
   ],
   "source": [
    "def even_odd(l):\n",
    "    even = [x for x in l if x%2==0]\n",
    "    odd =[x for x in l if x%2!=0]\n",
    "    return even,odd\n",
    "l = [1,2,3,4,5,6,7,8,9]\n",
    "\n",
    "\n",
    "print(even_odd(l))"
   ]
  },
  {
   "cell_type": "code",
   "execution_count": 5,
   "id": "dd33027c",
   "metadata": {},
   "outputs": [
    {
     "data": {
      "text/plain": [
       "['e', 'e', 'o', 'e', 'e']"
      ]
     },
     "execution_count": 5,
     "metadata": {},
     "output_type": "execute_result"
    }
   ],
   "source": [
    "s = \"geeksforgeeks\"\n",
    "s1 = [x for x in s if x in \"aeiou\"]\n",
    "s1"
   ]
  },
  {
   "cell_type": "code",
   "execution_count": 8,
   "id": "0a5416ba",
   "metadata": {},
   "outputs": [
    {
     "name": "stdout",
     "output_type": "stream",
     "text": [
      "['GEEKS', 'GEEKS', 'GFG']\n"
     ]
    }
   ],
   "source": [
    "l = [\"geeks\",\"for\",\"geeks\",\"gfg\",\"ide\"]\n",
    "l2 = [x.upper() for x in l if x.startswith(\"g\")]\n",
    "print(l2)"
   ]
  },
  {
   "cell_type": "code",
   "execution_count": 10,
   "id": "532838f7",
   "metadata": {},
   "outputs": [
    {
     "name": "stdout",
     "output_type": "stream",
     "text": [
      "{10, 20, 4}\n",
      "{3, 7}\n"
     ]
    }
   ],
   "source": [
    "l = [10,20,3,4,10,20,7,3]\n",
    "s1 ={x for x in l if x%2 == 0}\n",
    "s2 ={x for x in l if x%2 !=0}\n",
    "print(s1)\n",
    "print(s2)"
   ]
  },
  {
   "cell_type": "code",
   "execution_count": 11,
   "id": "cc5034e4",
   "metadata": {},
   "outputs": [
    {
     "name": "stdout",
     "output_type": "stream",
     "text": [
      "{1: 1, 2: 8, 3: 27, 4: 64, 5: 125, 6: 216, 7: 343, 8: 512}\n"
     ]
    }
   ],
   "source": [
    "l1 = [1,2,3,4,5,6,7,8]\n",
    "dic ={x:x**3 for x in l1}\n",
    "print(dic)\n"
   ]
  },
  {
   "cell_type": "code",
   "execution_count": 27,
   "id": "a60c980b",
   "metadata": {},
   "outputs": [
    {
     "name": "stdout",
     "output_type": "stream",
     "text": [
      "{1: 'a', 2: 'b', 3: 'c', 4: 'd', 5: 'e', 6: 'f', 7: 'g', 8: 'h'}\n"
     ]
    }
   ],
   "source": [
    "l1 = [1,2,3,4,5,6,7,8]\n",
    "l2 =[\"a\",'b','c','d','e','f','g','h']\n",
    "di_1 ={l1[i]:l2[i] for i in range(len(l1))}\n",
    "print(di_1)"
   ]
  },
  {
   "cell_type": "code",
   "execution_count": 28,
   "id": "946f3ed0",
   "metadata": {},
   "outputs": [
    {
     "ename": "TypeError",
     "evalue": "'dict' object is not callable",
     "output_type": "error",
     "traceback": [
      "\u001b[1;31m---------------------------------------------------------------------------\u001b[0m",
      "\u001b[1;31mTypeError\u001b[0m                                 Traceback (most recent call last)",
      "Cell \u001b[1;32mIn[28], line 4\u001b[0m\n\u001b[0;32m      2\u001b[0m l1 \u001b[38;5;241m=\u001b[39m [\u001b[38;5;241m1\u001b[39m,\u001b[38;5;241m2\u001b[39m,\u001b[38;5;241m3\u001b[39m,\u001b[38;5;241m4\u001b[39m,\u001b[38;5;241m5\u001b[39m,\u001b[38;5;241m6\u001b[39m,\u001b[38;5;241m7\u001b[39m,\u001b[38;5;241m8\u001b[39m]\n\u001b[0;32m      3\u001b[0m l2 \u001b[38;5;241m=\u001b[39m[\u001b[38;5;124m\"\u001b[39m\u001b[38;5;124ma\u001b[39m\u001b[38;5;124m\"\u001b[39m,\u001b[38;5;124m'\u001b[39m\u001b[38;5;124mb\u001b[39m\u001b[38;5;124m'\u001b[39m,\u001b[38;5;124m'\u001b[39m\u001b[38;5;124mc\u001b[39m\u001b[38;5;124m'\u001b[39m,\u001b[38;5;124m'\u001b[39m\u001b[38;5;124md\u001b[39m\u001b[38;5;124m'\u001b[39m,\u001b[38;5;124m'\u001b[39m\u001b[38;5;124me\u001b[39m\u001b[38;5;124m'\u001b[39m,\u001b[38;5;124m'\u001b[39m\u001b[38;5;124mf\u001b[39m\u001b[38;5;124m'\u001b[39m,\u001b[38;5;124m'\u001b[39m\u001b[38;5;124mg\u001b[39m\u001b[38;5;124m'\u001b[39m,\u001b[38;5;124m'\u001b[39m\u001b[38;5;124mh\u001b[39m\u001b[38;5;124m'\u001b[39m]\n\u001b[1;32m----> 4\u001b[0m d \u001b[38;5;241m=\u001b[39m \u001b[38;5;28mdict\u001b[39m(\u001b[38;5;28mzip\u001b[39m(l1,l2))\n",
      "\u001b[1;31mTypeError\u001b[0m: 'dict' object is not callable"
     ]
    }
   ],
   "source": [
    "# short cut for creating dictionary from list\n",
    "l1 = [1,2,3,4,5,6,7,8]\n",
    "l2 =[\"a\",'b','c','d','e','f','g','h']\n",
    "d = dict(zip(l1,l2))"
   ]
  },
  {
   "cell_type": "code",
   "execution_count": null,
   "id": "0bb3afde",
   "metadata": {},
   "outputs": [],
   "source": []
  }
 ],
 "metadata": {
  "kernelspec": {
   "display_name": "base",
   "language": "python",
   "name": "python3"
  },
  "language_info": {
   "codemirror_mode": {
    "name": "ipython",
    "version": 3
   },
   "file_extension": ".py",
   "mimetype": "text/x-python",
   "name": "python",
   "nbconvert_exporter": "python",
   "pygments_lexer": "ipython3",
   "version": "3.13.5"
  }
 },
 "nbformat": 4,
 "nbformat_minor": 5
}
