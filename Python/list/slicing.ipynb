{
 "cells": [
  {
   "cell_type": "code",
   "execution_count": 2,
   "id": "726315d0",
   "metadata": {},
   "outputs": [
    {
     "name": "stdout",
     "output_type": "stream",
     "text": [
      "[5, 4, 3, 2, 1]\n"
     ]
    }
   ],
   "source": [
    "l =[1,2,3,4,5]\n",
    "# for reversing the list \n",
    "l2 = l[ : :-1]\n",
    "print(l2)"
   ]
  },
  {
   "cell_type": "code",
   "execution_count": 5,
   "id": "776c13d4",
   "metadata": {},
   "outputs": [
    {
     "name": "stdout",
     "output_type": "stream",
     "text": [
      "False\n",
      "True\n",
      "True\n"
     ]
    }
   ],
   "source": [
    "l =[1,2,3,4,5]\n",
    "l2 = l[:]\n",
    "tup = (1,2,3,4)\n",
    "tup2 = tup[:]\n",
    "s = \"geeks\"\n",
    "s2 = s[:]\n",
    "print(l2 is l)\n",
    "print(tup2 is tup)\n",
    "print(s2 is s)\n"
   ]
  },
  {
   "cell_type": "code",
   "execution_count": null,
   "id": "b29b0e21",
   "metadata": {},
   "outputs": [],
   "source": []
  }
 ],
 "metadata": {
  "kernelspec": {
   "display_name": "base",
   "language": "python",
   "name": "python3"
  },
  "language_info": {
   "codemirror_mode": {
    "name": "ipython",
    "version": 3
   },
   "file_extension": ".py",
   "mimetype": "text/x-python",
   "name": "python",
   "nbconvert_exporter": "python",
   "pygments_lexer": "ipython3",
   "version": "3.13.5"
  }
 },
 "nbformat": 4,
 "nbformat_minor": 5
}
