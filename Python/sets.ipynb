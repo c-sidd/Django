{
 "cells": [
  {
   "cell_type": "markdown",
   "id": "3f26085d",
   "metadata": {},
   "source": [
    "SETS\n",
    "\n",
    "## 🔹 **Properties of Sets in Python**\n",
    "\n",
    "1. **Distinct elements**\n",
    "\n",
    "   * A set automatically removes duplicates.\n",
    "\n",
    "   ```python\n",
    "   s = {1, 2, 2, 3, 4}\n",
    "   print(s)   # {1, 2, 3, 4}\n",
    "   ```\n",
    "\n",
    "2. **Unordered**\n",
    "\n",
    "   * The elements are not stored in a fixed order.\n",
    "   * Every run may print elements in a different sequence.\n",
    "\n",
    "3. **No indexing / slicing**\n",
    "\n",
    "   * Unlike lists and tuples, you **cannot access elements by index**.\n",
    "\n",
    "   ```python\n",
    "   s = {10, 20, 30}\n",
    "   # print(s[0]) ❌ Error\n",
    "   ```\n",
    "\n",
    "4. **Union, intersection, difference are fast**\n",
    "\n",
    "   * Built-in set operations are optimized and efficient.\n",
    "\n",
    "   ```python\n",
    "   A = {1, 2, 3}\n",
    "   B = {3, 4, 5}\n",
    "   print(A | B)   # Union → {1, 2, 3, 4, 5}\n",
    "   print(A & B)   # Intersection → {3}\n",
    "   print(A - B)   # Difference → {1, 2}\n",
    "   ```\n",
    "\n",
    "5. **Uses hashing internally**\n",
    "\n",
    "   * Sets are implemented using a **hash table**, which makes lookups (`in`) very fast (average O(1) time).\n",
    "\n",
    "   ```python\n",
    "   print(3 in {1,2,3,4})   # True → fast lookup\n",
    "   ```\n",
    "\n",
    "6. **Mutable (but elements must be immutable)** ✅\n",
    "\n",
    "   * A set itself can be changed (add/remove elements).\n",
    "   * But the elements inside must be **hashable** (immutable types like `int`, `str`, `tuple`).\n",
    "   * ❌ You can’t put lists/dictionaries inside a set.\n",
    "\n",
    "   ```python\n",
    "   s = {1, 2}\n",
    "   s.add(3)          # ✅ Add element\n",
    "   s.remove(2)       # ✅ Remove element\n",
    "   # s.add([1,2])    # ❌ Error: list is not hashable\n",
    "   s.add((1,2))      # ✅ Tuples are allowed\n",
    "   print(s)          # {1, 3, (1, 2)}\n",
    "   ```\n",
    "\n",
    "---\n",
    "\n",
    "## ✅ Quick Summary Table\n",
    "\n",
    "| Feature          | Set (`{}`)                                       |\n",
    "| ---------------- | ------------------------------------------------ |\n",
    "| Duplicates       | ❌ Not allowed (auto removed)                     |\n",
    "| Order            | ❌ Unordered                                      |\n",
    "| Indexing/Slicing | ❌ Not supported                                  |\n",
    "| Operations       | ✅ Union, Intersection, Difference                |\n",
    "| Speed            | ✅ Very fast (uses hashing)                       |\n",
    "| Mutability       | ✅ Set itself mutable, elements must be immutable |\n",
    "\n",
    "---\n"
   ]
  },
  {
   "cell_type": "code",
   "execution_count": 1,
   "id": "7bd52750",
   "metadata": {},
   "outputs": [
    {
     "name": "stdout",
     "output_type": "stream",
     "text": [
      "{1, 2, 3, 4}\n"
     ]
    }
   ],
   "source": [
    "s1 = {1,2,3,4}\n",
    "print(s1)"
   ]
  },
  {
   "cell_type": "code",
   "execution_count": null,
   "id": "8aa180bc",
   "metadata": {},
   "outputs": [
    {
     "name": "stdout",
     "output_type": "stream",
     "text": [
      "{1, 2, 3, 5}\n"
     ]
    }
   ],
   "source": [
    "s2 = set([1,2,3,5])  #list in set use of set constructor to create\n",
    "print(s2)"
   ]
  },
  {
   "cell_type": "code",
   "execution_count": 4,
   "id": "b5778a5f",
   "metadata": {},
   "outputs": [
    {
     "name": "stdout",
     "output_type": "stream",
     "text": [
      "<class 'dict'>\n",
      "<class 'set'>\n",
      "set()\n"
     ]
    }
   ],
   "source": [
    "# creating a empty set\n",
    "s3 = {}\n",
    "print(type(s3))\n",
    "s4 = set()\n",
    "print(type(s4))\n",
    "print(s4)"
   ]
  },
  {
   "cell_type": "markdown",
   "id": "cc34fe20",
   "metadata": {},
   "source": [
    "function in set"
   ]
  },
  {
   "cell_type": "code",
   "execution_count": null,
   "id": "9d07ce07",
   "metadata": {},
   "outputs": [
    {
     "name": "stdout",
     "output_type": "stream",
     "text": [
      "{10, 20, 30}\n",
      "{10, 20, 30}\n",
      "{10, 50, 20, 60, 30}\n"
     ]
    }
   ],
   "source": [
    "# Initial set\n",
    "s = {10, 20}             # Sets only store unique values\n",
    "# s = {10, 20}\n",
    "\n",
    "# add(x) → Adds a SINGLE element to the set\n",
    "s.add(30)                # Adds 30\n",
    "print(s)                 # {10, 20, 30}\n",
    "\n",
    "# update(iterable) → Adds MULTIPLE elements from any iterable (list, tuple, set...)\n",
    "s.update([10, 30])       # Adds 10 and 30, but both already exist → no duplicates\n",
    "print(s)                 # {10, 20, 30}\n",
    "\n",
    "# update(iterable1, iterable2, ...) → Can take multiple iterables at once\n",
    "s.update([10, 20], [50, 60])  \n",
    "# 10,20 already exist → ignored\n",
    "# 50,60 are new → added\n",
    "print(s)                 # {10, 20, 30, 50, 60}\n"
   ]
  },
  {
   "cell_type": "markdown",
   "id": "32416490",
   "metadata": {},
   "source": [
    "🔹 Key Points\n",
    "\n",
    "add(x) → Insert one element only.\n",
    "\n",
    "update(iterable) → Insert multiple elements at once (takes a list, tuple, set, even multiple of them).\n",
    "\n",
    "Sets ignore duplicates automatically."
   ]
  },
  {
   "cell_type": "code",
   "execution_count": 10,
   "id": "68bfe979",
   "metadata": {},
   "outputs": [
    {
     "ename": "KeyError",
     "evalue": "30",
     "output_type": "error",
     "traceback": [
      "\u001b[1;31m---------------------------------------------------------------------------\u001b[0m",
      "\u001b[1;31mKeyError\u001b[0m                                  Traceback (most recent call last)",
      "Cell \u001b[1;32mIn[10], line 2\u001b[0m\n\u001b[0;32m      1\u001b[0m s \u001b[38;5;241m=\u001b[39m {\u001b[38;5;241m10\u001b[39m,\u001b[38;5;241m20\u001b[39m,\u001b[38;5;241m3\u001b[39m,\u001b[38;5;241m5\u001b[39m}\n\u001b[1;32m----> 2\u001b[0m s\u001b[38;5;241m.\u001b[39mremove(\u001b[38;5;241m30\u001b[39m)\n\u001b[0;32m      3\u001b[0m \u001b[38;5;28mprint\u001b[39m(s)\n\u001b[0;32m      4\u001b[0m s\u001b[38;5;241m.\u001b[39mdiscard(\u001b[38;5;241m30\u001b[39m)\n",
      "\u001b[1;31mKeyError\u001b[0m: 30"
     ]
    }
   ],
   "source": [
    "s = {10,20,3,5}\n",
    "s.remove(30)\n",
    "print(s)\n",
    "s.discard(30)"
   ]
  },
  {
   "cell_type": "code",
   "execution_count": null,
   "id": "dee4b831",
   "metadata": {},
   "outputs": [
    {
     "name": "stdout",
     "output_type": "stream",
     "text": [
      "{10, 3, 5}\n",
      "{10, 3, 5}\n",
      "set()\n",
      "{50}\n"
     ]
    }
   ],
   "source": [
    "# Initial set\n",
    "s = {10, 20, 3, 5}     \n",
    "# s = {10, 20, 3, 5}\n",
    "\n",
    "# remove(x) → Removes the element 'x'\n",
    "# ⚠️ If 'x' is not present → KeyError\n",
    "s.remove(20)           \n",
    "print(s)    # {10, 3, 5}\n",
    "\n",
    "# discard(x) → Removes the element 'x'\n",
    "# ✅ If 'x' is not present → No error (safe remove)\n",
    "s.discard(30)          \n",
    "print(s)    # {10, 3, 5} (no change, 30 was not in the set)\n",
    "\n",
    "# clear() → Removes ALL elements (empties the set)\n",
    "s.clear()              \n",
    "print(s)    # set()  (empty set)\n",
    "\n",
    "# add(x) → Add a new element (even after clearing, set still exists)\n",
    "s.add(50)             \n",
    "print(s)    # {50}\n",
    "\n",
    "# del keyword → Deletes the entire set from memory\n",
    "del s                  \n",
    "# print(s) ❌ NameError (because set no longer exists)\n",
    "\n"
   ]
  },
  {
   "cell_type": "code",
   "execution_count": null,
   "id": "8a72eb25",
   "metadata": {},
   "outputs": [
    {
     "ename": "NameError",
     "evalue": "name 's' is not defined",
     "output_type": "error",
     "traceback": [
      "\u001b[1;31m---------------------------------------------------------------------------\u001b[0m",
      "\u001b[1;31mNameError\u001b[0m                                 Traceback (most recent call last)",
      "Cell \u001b[1;32mIn[13], line 1\u001b[0m\n\u001b[1;32m----> 1\u001b[0m \u001b[38;5;28mprint\u001b[39m(s)\n",
      "\u001b[1;31mNameError\u001b[0m: name 's' is not defined"
     ]
    }
   ],
   "source": [
    "print(s) # throws a error"
   ]
  },
  {
   "cell_type": "markdown",
   "id": "bbad8e8c",
   "metadata": {},
   "source": [
    "| Method       | Removes element? | If element not found | Removes entire set?           |\n",
    "| ------------ | ---------------- | -------------------- | ----------------------------- |\n",
    "| `remove(x)`  | ✅ Yes            | ❌ Raises `KeyError`  | ❌ No                          |\n",
    "| `discard(x)` | ✅ Yes            | ✅ Does nothing       | ❌ No                          |\n",
    "| `clear()`    | ✅ All elements   | ✅ Always works       | ❌ No                          |\n",
    "| `del s`      | ✅ Entire set     | ✅ Deletes variable   | ✅ Yes (cannot access anymore) |\n"
   ]
  },
  {
   "cell_type": "code",
   "execution_count": 14,
   "id": "dba3a458",
   "metadata": {},
   "outputs": [],
   "source": [
    "s = {10,20,30}"
   ]
  },
  {
   "cell_type": "code",
   "execution_count": 15,
   "id": "a5559785",
   "metadata": {},
   "outputs": [
    {
     "name": "stdout",
     "output_type": "stream",
     "text": [
      "3\n",
      "True\n",
      "False\n"
     ]
    }
   ],
   "source": [
    "print(len(s))\n",
    "print(10 in s)\n",
    "print(40 in s)"
   ]
  },
  {
   "cell_type": "markdown",
   "id": "5c3d86a5",
   "metadata": {},
   "source": [
    "operation on sets"
   ]
  },
  {
   "cell_type": "code",
   "execution_count": 21,
   "id": "c94a9bc1",
   "metadata": {},
   "outputs": [
    {
     "name": "stdout",
     "output_type": "stream",
     "text": [
      "{2, 3, 4, 6, 8, 9}\n",
      "{2, 3, 4, 6, 8, 9}\n",
      "{6}\n",
      "{6}\n",
      "{8, 2, 4}\n",
      "{8, 2, 4}\n",
      "{2, 3, 4, 8, 9}\n",
      "{2, 3, 4, 8, 9}\n"
     ]
    }
   ],
   "source": [
    "s1 = {2,4,6,8}\n",
    "s2 = {3,6,9}\n",
    "print(s1 | s2) # gives union of set\n",
    "print(s1.union(s2)) # union of set\n",
    "print(s1&s2)    #gives intersection of set\n",
    "print(s1.intersection(s2)) #gives intersection of set\n",
    "print(s1 - s2)     # gives differencse of a-b != b-a\n",
    "print(s1.difference(s2))# gives difference\n",
    "print(s1 ^ s2)# gives symmetric difference(a union b - instesection of a and b)\n",
    "print(s1.symmetric_difference(s2))"
   ]
  },
  {
   "cell_type": "code",
   "execution_count": 25,
   "id": "24711b73",
   "metadata": {},
   "outputs": [
    {
     "name": "stdout",
     "output_type": "stream",
     "text": [
      "{1, 2, 3, 4}\n",
      "False\n",
      "False\n",
      "False\n",
      "True\n",
      "True\n"
     ]
    }
   ],
   "source": [
    "s1 = { 1,2,3,4}\n",
    "s2 = {2,3,4}\n",
    "\n",
    "print(s1)\n",
    "print(s1.isdisjoint(s2)) # disjoint means no common elements\n",
    "print(s1 <= s2)  # s1 is subset of s2 \n",
    "print(s1 < s2)   # s1 is proper subseet of s2\n",
    "print(s1 >= s2)  # s2 is superset of s2\n",
    "print(s1 > s2)   # s2 id proper superset of s2\n"
   ]
  },
  {
   "cell_type": "code",
   "execution_count": null,
   "id": "3a0adbcd",
   "metadata": {},
   "outputs": [],
   "source": []
  }
 ],
 "metadata": {
  "kernelspec": {
   "display_name": "base",
   "language": "python",
   "name": "python3"
  },
  "language_info": {
   "codemirror_mode": {
    "name": "ipython",
    "version": 3
   },
   "file_extension": ".py",
   "mimetype": "text/x-python",
   "name": "python",
   "nbconvert_exporter": "python",
   "pygments_lexer": "ipython3",
   "version": "3.13.5"
  }
 },
 "nbformat": 4,
 "nbformat_minor": 5
}
