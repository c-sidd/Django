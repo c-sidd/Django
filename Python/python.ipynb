{
 "cells": [
  {
   "cell_type": "markdown",
   "id": "bc5d04e7",
   "metadata": {},
   "source": [
    "OUTPUT FUNCTION"
   ]
  },
  {
   "cell_type": "markdown",
   "id": "d75d7be8",
   "metadata": {},
   "source": [
    "python code is interpreted , it is dynammically type language and it does not need to stat type of data type;\n"
   ]
  },
  {
   "cell_type": "code",
   "execution_count": 2,
   "id": "2129e725",
   "metadata": {},
   "outputs": [
    {
     "name": "stdout",
     "output_type": "stream",
     "text": [
      "Hello World\n"
     ]
    }
   ],
   "source": [
    "print(\"Hello World\");"
   ]
  },
  {
   "cell_type": "markdown",
   "id": "daccb44d",
   "metadata": {},
   "source": [
    "variables in python"
   ]
  },
  {
   "cell_type": "code",
   "execution_count": 3,
   "id": "ab3cc004",
   "metadata": {},
   "outputs": [
    {
     "name": "stdout",
     "output_type": "stream",
     "text": [
      "56\n"
     ]
    }
   ],
   "source": [
    "price = 38\n",
    "tax = 18\n",
    "total_price = price +tax \n",
    "print(total_price)\n"
   ]
  },
  {
   "cell_type": "markdown",
   "id": "b37d26a1",
   "metadata": {},
   "source": [
    "None value\n"
   ]
  },
  {
   "cell_type": "code",
   "execution_count": null,
   "id": "da183193",
   "metadata": {},
   "outputs": [
    {
     "name": "stdout",
     "output_type": "stream",
     "text": [
      "None\n"
     ]
    }
   ],
   "source": [
    "x = None\n",
    "print(x)  #none does not means 0,false or anything \n"
   ]
  },
  {
   "cell_type": "markdown",
   "id": "1f5a6fcc",
   "metadata": {},
   "source": [
    "SWAP TWO VARIABLES"
   ]
  },
  {
   "cell_type": "markdown",
   "id": "554ad695",
   "metadata": {},
   "source": [
    "In Python, a variable does not store the actual value directly like in C++.\n",
    "\n",
    "Instead, it refers to an object in memory. Every value in Python is an object, and the variable points to that object."
   ]
  },
  {
   "cell_type": "code",
   "execution_count": null,
   "id": "239b03d3",
   "metadata": {},
   "outputs": [],
   "source": []
  }
 ],
 "metadata": {
  "kernelspec": {
   "display_name": "base",
   "language": "python",
   "name": "python3"
  },
  "language_info": {
   "codemirror_mode": {
    "name": "ipython",
    "version": 3
   },
   "file_extension": ".py",
   "mimetype": "text/x-python",
   "name": "python",
   "nbconvert_exporter": "python",
   "pygments_lexer": "ipython3",
   "version": "3.13.5"
  }
 },
 "nbformat": 4,
 "nbformat_minor": 5
}
