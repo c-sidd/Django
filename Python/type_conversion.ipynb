{
 "cells": [
  {
   "cell_type": "markdown",
   "id": "b4eb9931",
   "metadata": {},
   "source": [
    "implicit type conversion"
   ]
  },
  {
   "cell_type": "code",
   "execution_count": 2,
   "id": "3ebd4469",
   "metadata": {},
   "outputs": [
    {
     "name": "stdout",
     "output_type": "stream",
     "text": [
      "11.5\n"
     ]
    }
   ],
   "source": [
    "a = 10\n",
    "b= 1.5\n",
    "print(a+b)"
   ]
  },
  {
   "cell_type": "code",
   "execution_count": 3,
   "id": "283fcb14",
   "metadata": {},
   "outputs": [
    {
     "name": "stdout",
     "output_type": "stream",
     "text": [
      "11\n"
     ]
    }
   ],
   "source": [
    "d = True\n",
    "print(a+d)"
   ]
  },
  {
   "cell_type": "markdown",
   "id": "a3b0bfb4",
   "metadata": {},
   "source": [
    "explicit type conversion\n"
   ]
  },
  {
   "cell_type": "code",
   "execution_count": 5,
   "id": "fce5101d",
   "metadata": {},
   "outputs": [
    {
     "data": {
      "text/plain": [
       "1366.0"
      ]
     },
     "execution_count": 5,
     "metadata": {},
     "output_type": "execute_result"
    }
   ],
   "source": [
    "s =\"1356\"\n",
    "a =10;\n",
    "c = a+int(s)\n",
    "c \n",
    "float(c)"
   ]
  },
  {
   "cell_type": "code",
   "execution_count": 11,
   "id": "13618785",
   "metadata": {},
   "outputs": [
    {
     "name": "stdout",
     "output_type": "stream",
     "text": [
      "['c', 'h', 'a', 'n', 'd', 'r', 'a', 'c', 'h', 'u', 'd']\n",
      "{'a', 'r', 'h', 'c', 'u', 'n', 'd'}\n",
      "('c', 'h', 'a', 'n', 'd', 'r', 'a', 'c', 'h', 'u', 'd')\n"
     ]
    }
   ],
   "source": [
    "s = \"chandrachud\"\n",
    "print(list(s))\n",
    "print(set(s))  \n",
    "print(tuple(s))\n",
    "# we can change from list to sets and any other or adifferent to different \n",
    "# we use tuple to list when we have to modify hte data\n",
    "# sets to list make it ordered\n",
    "# convert into string also"
   ]
  },
  {
   "cell_type": "code",
   "execution_count": 12,
   "id": "eea87f30",
   "metadata": {},
   "outputs": [
    {
     "name": "stdout",
     "output_type": "stream",
     "text": [
      "0b10011100110010\n",
      "0x2732\n",
      "0o23462\n"
     ]
    }
   ],
   "source": [
    "a =10034\n",
    "print(bin(a))\n",
    "print(hex(a))\n",
    "print(oct(a))"
   ]
  },
  {
   "cell_type": "code",
   "execution_count": null,
   "id": "5ef8d8a4",
   "metadata": {},
   "outputs": [],
   "source": []
  }
 ],
 "metadata": {
  "kernelspec": {
   "display_name": "base",
   "language": "python",
   "name": "python3"
  },
  "language_info": {
   "codemirror_mode": {
    "name": "ipython",
    "version": 3
   },
   "file_extension": ".py",
   "mimetype": "text/x-python",
   "name": "python",
   "nbconvert_exporter": "python",
   "pygments_lexer": "ipython3",
   "version": "3.13.5"
  }
 },
 "nbformat": 4,
 "nbformat_minor": 5
}
