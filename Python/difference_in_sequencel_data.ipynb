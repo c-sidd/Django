{
 "cells": [
  {
   "cell_type": "markdown",
   "id": "2b000ef6",
   "metadata": {},
   "source": [
    "| Feature        | List (`[]`)                    | Tuple (`()`)                          | Set (`{}`)                                       | Dictionary (`{key: value}`)              |\n",
    "| -------------- | ------------------------------ | ------------------------------------- | ------------------------------------------------ | ---------------------------------------- |\n",
    "| **Definition** | Ordered collection of elements | Ordered, **immutable** collection     | Unordered collection of unique items             | Collection of **key–value pairs**        |\n",
    "| **Duplicates** | ✅ Allowed                      | ✅ Allowed                             | ❌ Not allowed (auto removed)                     | ✅ Keys must be unique, values can repeat |\n",
    "| **Order**      | ✅ Maintains insertion order    | ✅ Maintains insertion order           | ❌ No order (but in Py 3.7+, insertion preserved) | ✅ Maintains insertion order (Py 3.7+)    |\n",
    "| **Indexing**   | ✅ Supported                    | ✅ Supported                           | ❌ Not supported                                  | Keys used instead of indexes             |\n",
    "| **Mutability** | ✅ Mutable (can change)         | ❌ Immutable (cannot change)           | ✅ Mutable (add/remove elements)                  | ✅ Mutable (can add/remove/update pairs)  |\n",
    "| **Hashable?**  | ❌ Not hashable                 | ✅ Hashable (if all elements hashable) | ❌ Not hashable                                   | ❌ Not hashable                           |\n",
    "| **Use case**   | Dynamic data, collections      | Fixed data, constants                 | Unique items, fast membership check              | Key–value mapping (like dict/map/JSON)   |\n"
   ]
  },
  {
   "cell_type": "markdown",
   "id": "b60f8b54",
   "metadata": {},
   "source": [
    "| Function / Method              | List | Tuple | Set | Dictionary                 | Description & Syntax                                                                                         |                 |     |\n",
    "| ------------------------------ | ---- | ----- | --- | -------------------------- | ------------------------------------------------------------------------------------------------------------ | --------------- | --- |\n",
    "| `len(x)`                       | ✅    | ✅     | ✅   | ✅                          | Returns number of elements → `len(x)`                                                                        |                 |     |\n",
    "| `max(x)`                       | ✅    | ✅     | ✅   | ❌                          | Largest element → `max(list/tuple/set)`                                                                      |                 |     |\n",
    "| `min(x)`                       | ✅    | ✅     | ✅   | ❌                          | Smallest element → `min(list/tuple/set)`                                                                     |                 |     |\n",
    "| `sum(x)`                       | ✅    | ✅     | ✅   | ❌                          | Sum of all numbers → `sum(list/tuple/set)`                                                                   |                 |     |\n",
    "| `sorted(x)`                    | ✅    | ✅     | ✅   | ❌                          | Returns sorted **list** → `sorted(x)`                                                                        |                 |     |\n",
    "| `append(x)`                    | ✅    | ❌     | ❌   | ❌                          | Add one element (only for list) → `list.append(val)`                                                         |                 |     |\n",
    "| `insert(i, x)`                 | ✅    | ❌     | ❌   | ❌                          | Insert at index → `list.insert(i, val)`                                                                      |                 |     |\n",
    "| `extend(iterable)`             | ✅    | ❌     | ❌   | ❌                          | Add multiple → `list.extend([x,y])`                                                                          |                 |     |\n",
    "| `add(x)`                       | ❌    | ❌     | ✅   | ❌                          | Add single element to set → `set.add(val)`                                                                   |                 |     |\n",
    "| `update(iterable)`             | ❌    | ❌     | ✅   | ✅ (for dict merge in 3.9+) | Add multiple elements to set/dict → `set.update([...])`                                                      |                 |     |\n",
    "| `remove(x)`                    | ✅    | ❌     | ✅   | ✅                          | Remove element/key (error if missing)                                                                        |                 |     |\n",
    "| `discard(x)`                   | ❌    | ❌     | ✅   | ❌                          | Remove element safely (no error)                                                                             |                 |     |\n",
    "| `pop()`                        | ✅    | ❌     | ✅   | ✅                          | Removes & returns element <br> • list: last element <br> • set: random element <br> • dict: key or last item |                 |     |\n",
    "| `popitem()`                    | ❌    | ❌     | ❌   | ✅                          | Removes & returns **last inserted** key–value pair                                                           |                 |     |\n",
    "| `clear()`                      | ✅    | ❌     | ✅   | ✅                          | Removes all elements                                                                                         |                 |     |\n",
    "| `index(x)`                     | ✅    | ✅     | ❌   | ❌                          | Returns index of element (first occurrence)                                                                  |                 |     |\n",
    "| `count(x)`                     | ✅    | ✅     | ❌   | ❌                          | Count occurrences                                                                                            |                 |     |\n",
    "| `keys()`                       | ❌    | ❌     | ❌   | ✅                          | Returns dict keys                                                                                            |                 |     |\n",
    "| `values()`                     | ❌    | ❌     | ❌   | ✅                          | Returns dict values                                                                                          |                 |     |\n",
    "| `items()`                      | ❌    | ❌     | ❌   | ✅                          | Returns dict items (key, value)                                                                              |                 |     |\n",
    "| `union()` / \\`                 | \\`   | ❌     | ❌   | ✅                          | ❌                                                                                                            | Set union → \\`A | B\\` |\n",
    "| `intersection()` / `&`         | ❌    | ❌     | ✅   | ❌                          | Set intersection → `A & B`                                                                                   |                 |     |\n",
    "| `difference()` / `-`           | ❌    | ❌     | ✅   | ❌                          | Set difference → `A - B`                                                                                     |                 |     |\n",
    "| `symmetric_difference()` / `^` | ❌    | ❌     | ✅   | ❌                          | Set symmetric diff → `A ^ B`                                                                                 |                 |     |\n"
   ]
  },
  {
   "cell_type": "markdown",
   "id": "f589f9ea",
   "metadata": {},
   "source": []
  }
 ],
 "metadata": {
  "language_info": {
   "name": "python"
  }
 },
 "nbformat": 4,
 "nbformat_minor": 5
}
