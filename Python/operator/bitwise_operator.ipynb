{
 "cells": [
  {
   "cell_type": "code",
   "execution_count": 1,
   "id": "5bff4f46",
   "metadata": {},
   "outputs": [
    {
     "name": "stdout",
     "output_type": "stream",
     "text": [
      "0b10010\n"
     ]
    }
   ],
   "source": [
    "print(bin(18))"
   ]
  },
  {
   "cell_type": "code",
   "execution_count": 1,
   "id": "a866860d",
   "metadata": {},
   "outputs": [
    {
     "name": "stdout",
     "output_type": "stream",
     "text": [
      "0b10\n",
      "0xc\n"
     ]
    }
   ],
   "source": [
    "print(bin(2)) #0b states that it is binary\n",
    "print(hex(12))"
   ]
  },
  {
   "cell_type": "code",
   "execution_count": null,
   "id": "428e353c",
   "metadata": {},
   "outputs": [
    {
     "name": "stdout",
     "output_type": "stream",
     "text": [
      "2\n",
      "7\n",
      "5\n"
     ]
    }
   ],
   "source": [
    "#bitwise \n",
    "x = 3;   # 011\n",
    "y =6;     #110\n",
    "print(x&y)  #010=2\n",
    "print(x|y)  #111=7\n",
    "print(x^y)  #110 =5 same makes 0\n"
   ]
  },
  {
   "cell_type": "code",
   "execution_count": null,
   "id": "649c789f",
   "metadata": {},
   "outputs": [
    {
     "name": "stdout",
     "output_type": "stream",
     "text": [
      "10\n",
      "20\n",
      "40\n"
     ]
    }
   ],
   "source": [
    "x = 5\n",
    "  # 101\n",
    "print(x<<1) # 1010\n",
    "print(  x<<2) #10100\n",
    "print( x<<3)# 101000"
   ]
  },
  {
   "cell_type": "markdown",
   "id": "cb834d78",
   "metadata": {},
   "source": [
    "\n",
    "### Step 1: Recall what `<<` does\n",
    "\n",
    "* `x << n` shifts the bits of `x` to the **left** by `n` positions.\n",
    "* Each left shift multiplies the number by `2`.\n",
    "\n",
    "So:\n",
    "\n",
    "$$\n",
    "x << n = x \\times (2^n)\n",
    "$$\n",
    "\n",
    "---\n",
    "\n",
    "### Step 2: Apply to `x = 5`\n",
    "\n",
    "Decimal `5` in binary: `101`\n",
    "\n",
    "1. **`x << 1`**\n",
    "\n",
    "   * `101` → `1010`\n",
    "   * Binary `1010` = Decimal **10**\n",
    "   * Output → `10`\n",
    "\n",
    "2. **`x << 2`**\n",
    "\n",
    "   * `101` → `10100`\n",
    "   * Binary `10100` = Decimal **20**\n",
    "   * Output → `20`\n",
    "\n",
    "3. **`x << 3`**\n",
    "\n",
    "   * `101` → `101000`\n",
    "   * Binary `101000` = Decimal **40**\n",
    "   * Output → `40`\n",
    "\n",
    "---\n",
    "\n",
    "✅ **Final Output:**\n",
    "\n",
    "```\n",
    "10\n",
    "20\n",
    "40\n",
    "```\n",
    "\n",
    "---\n",
    "\n",
    "⚠️ In your comment, you wrote:\n",
    "\n",
    "```python\n",
    "print(x<<3) # 10100\n",
    "```\n",
    "\n",
    "But actually `x << 3` = `101000` (not `10100`), which equals **40**, not 20.\n",
    "\n",
    "---\n",
    "\n",
    "\n"
   ]
  },
  {
   "cell_type": "code",
   "execution_count": null,
   "id": "5c03e243",
   "metadata": {},
   "outputs": [
    {
     "name": "stdout",
     "output_type": "stream",
     "text": [
      "5\n",
      "2\n",
      "1\n"
     ]
    }
   ],
   "source": [
    "\n",
    "# \n",
    "# x=10\n",
    " #1010\n",
    "print(x>>1) #0101\n",
    "print(x>>2) #0010\n",
    "print(x>>3) #0001"
   ]
  },
  {
   "cell_type": "markdown",
   "id": "42fec7e0",
   "metadata": {},
   "source": [
    "\n",
    "\n",
    "Your code:\n",
    "\n",
    "```python\n",
    "x = 10   # binary: 1010\n",
    "print(x >> 1)   # ?\n",
    "print(x >> 2)   # ?\n",
    "print(x >> 3)   # ?\n",
    "```\n",
    "\n",
    "---\n",
    "\n",
    "### Step 1: Recall what `>>` does\n",
    "\n",
    "* `>>` is the **right shift operator**.\n",
    "* It shifts the bits of a number to the **right**.\n",
    "* Each shift **divides the number by 2** (ignoring remainder).\n",
    "\n",
    "---\n",
    "\n",
    "### Step 2: Binary explanation for `x = 10`\n",
    "\n",
    "Decimal `10` in binary (4 bits): `1010`\n",
    "\n",
    "1. **`x >> 1`**\n",
    "\n",
    "   * Shift right by 1: `1010 → 0101`\n",
    "   * `0101` = **5** in decimal\n",
    "   * So `print(x >> 1)` → `5`\n",
    "\n",
    "2. **`x >> 2`**\n",
    "\n",
    "   * Shift right by 2: `1010 → 0010`\n",
    "   * `0010` = **2** in decimal\n",
    "   * So `print(x >> 2)` → `2`\n",
    "\n",
    "3. **`x >> 3`**\n",
    "\n",
    "   * Shift right by 3: `1010 → 0001`\n",
    "   * `0001` = **1** in decimal\n",
    "   * So `print(x >> 3)` → `1`\n",
    "\n",
    "---\n",
    "\n",
    "✅ **Output will be:**\n",
    "\n",
    "```\n",
    "5\n",
    "2\n",
    "1\n",
    "```\n",
    "\n",
    "---\n",
    "\n",
    "👉 Quick rule of thumb:\n",
    "`x >> n` ≈ `x // (2**n)` (integer division).\n",
    "\n"
   ]
  },
  {
   "cell_type": "code",
   "execution_count": null,
   "id": "a440b68a",
   "metadata": {},
   "outputs": [
    {
     "name": "stdout",
     "output_type": "stream",
     "text": [
      "-6\n"
     ]
    }
   ],
   "source": [
    "x =5  #Bitwise  NOT ~\n",
    "print(~x)  "
   ]
  },
  {
   "cell_type": "markdown",
   "id": "40f4c116",
   "metadata": {},
   "source": [
    "\n",
    "```python\n",
    "x = 5  # Bitwise NOT ~\n",
    "print(~x)\n",
    "```\n",
    "\n",
    "### Step 1: Understand what `~` does in Python\n",
    "\n",
    "* `~` is the **bitwise NOT** operator.\n",
    "* It **inverts all the bits** of the number.\n",
    "* But in Python, integers use **two’s complement representation** for negative numbers.\n",
    "\n",
    "So, mathematically:\n",
    "\n",
    "$$\n",
    "~x = -(x + 1)\n",
    "$$\n",
    "\n",
    "---\n",
    "\n",
    "### Step 2: Apply it to your example\n",
    "\n",
    "Here, `x = 5`.\n",
    "\n",
    "$$\n",
    "~5 = -(5 + 1) = -6\n",
    "$$\n",
    "\n",
    "So the output will be:\n",
    "\n",
    "```\n",
    "-6\n",
    "```\n",
    "\n",
    "---\n",
    "\n",
    "### Step 3: Binary explanation\n",
    "\n",
    "* `5` in binary (8-bit for simplicity): `00000101`\n",
    "* Applying bitwise NOT: `11111010`\n",
    "* That is the two’s complement form of `-6`.\n",
    "\n",
    "---\n",
    "\n",
    "✅ **Final Answer:**\n",
    "`~5` in Python equals **`-6`** because `~x = -(x+1)`.\n",
    "\n",
    "---\n",
    "\n"
   ]
  },
  {
   "cell_type": "code",
   "execution_count": null,
   "id": "dc15f442",
   "metadata": {},
   "outputs": [],
   "source": []
  }
 ],
 "metadata": {
  "kernelspec": {
   "display_name": "base",
   "language": "python",
   "name": "python3"
  },
  "language_info": {
   "codemirror_mode": {
    "name": "ipython",
    "version": 3
   },
   "file_extension": ".py",
   "mimetype": "text/x-python",
   "name": "python",
   "nbconvert_exporter": "python",
   "pygments_lexer": "ipython3",
   "version": "3.13.5"
  }
 },
 "nbformat": 4,
 "nbformat_minor": 5
}
