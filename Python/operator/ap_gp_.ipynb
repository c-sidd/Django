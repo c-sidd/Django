{
 "cells": [
  {
   "cell_type": "code",
   "execution_count": 2,
   "id": "ca760902",
   "metadata": {},
   "outputs": [],
   "source": [
    "#Arithmetic progression nth term"
   ]
  },
  {
   "cell_type": "markdown",
   "id": "dd7610b9",
   "metadata": {},
   "source": [
    "\n",
    "## **1. Definition**\n",
    "\n",
    "An **Arithmetic Progression (AP)** is a sequence of numbers in which the **difference between any two consecutive terms is constant**.\n",
    "\n",
    "This constant difference is called the **common difference (d)**.\n",
    "\n",
    "---\n",
    "\n",
    "## **2. General Form**\n",
    "\n",
    "If the first term is $a_1$ and the common difference is $d$, then the sequence is:\n",
    "\n",
    "$$\n",
    "a_1, a_1 + d, a_1 + 2d, a_1 + 3d, \\dots\n",
    "$$\n",
    "\n",
    "* $a_1$ = first term\n",
    "* $d$ = common difference\n",
    "* $n$-th term $a_n = a_1 + (n-1)d$\n",
    "\n",
    "---\n",
    "\n",
    "## **3. Examples**\n",
    "\n",
    "1. $2, 5, 8, 11, 14, …$\n",
    "\n",
    "   * First term $a_1 = 2$\n",
    "   * Common difference $d = 3$\n",
    "   * 5th term $a_5 = 2 + (5-1)\\cdot 3 = 14$\n",
    "\n",
    "2. $10, 7, 4, 1, -2, …$\n",
    "\n",
    "   * First term $a_1 = 10$\n",
    "   * Common difference $d = -3$\n",
    "   * 4th term $a_4 = 10 + (4-1)(-3) = 1$\n",
    "\n",
    "---\n",
    "\n",
    "## **4. Sum of first n terms**\n",
    "\n",
    "If $S_n$ is the sum of first $n$ terms:\n",
    "\n",
    "$$\n",
    "S_n = \\frac{n}{2} \\left[2a_1 + (n-1)d \\right]\n",
    "$$\n",
    "\n",
    "or equivalently:\n",
    "\n",
    "$$\n",
    "S_n = \\frac{n}{2} (a_1 + a_n)\n",
    "$$\n",
    "\n",
    "---\n",
    "\n",
    "## **5. Quick Notes**\n",
    "\n",
    "* If $d > 0$, AP is increasing.\n",
    "* If $d < 0$, AP is decreasing.\n",
    "* AP can have negative, positive, or fractional terms.\n",
    "\n",
    "---\n"
   ]
  },
  {
   "cell_type": "code",
   "execution_count": 11,
   "id": "97d8178b",
   "metadata": {},
   "outputs": [
    {
     "name": "stdout",
     "output_type": "stream",
     "text": [
      "the 5th term wiļ  be 25 \n"
     ]
    }
   ],
   "source": [
    "a = int (input(\"Enter the first value\"))\n",
    "d = int(input(\"Enter the common differece\"))\n",
    "n = int (input(\"Enter the term\"))\n",
    "an = a+(n-1)*d\n",
    "print(f\"the {n}th term wiļ  be {an} \")"
   ]
  },
  {
   "cell_type": "code",
   "execution_count": null,
   "id": "b2da139f",
   "metadata": {},
   "outputs": [],
   "source": [
    "# Geometric progression"
   ]
  },
  {
   "cell_type": "code",
   "execution_count": null,
   "id": "46b47533",
   "metadata": {},
   "outputs": [
    {
     "data": {
      "text/plain": [
       "3125"
      ]
     },
     "execution_count": 15,
     "metadata": {},
     "output_type": "execute_result"
    }
   ],
   "source": [
    "a = 5;      # gp = a*(r pow n-1)\n",
    "r =5\n",
    "n = 5\n",
    "gp = a*(r**(n-1))\n",
    "gp"
   ]
  },
  {
   "cell_type": "code",
   "execution_count": 18,
   "id": "f25a3a05",
   "metadata": {},
   "outputs": [
    {
     "name": "stdout",
     "output_type": "stream",
     "text": [
      "15.0\n"
     ]
    }
   ],
   "source": [
    "# sum of natural number  n(n+1)/2\n",
    "a = int(input(\"enter n\"))\n",
    "sum = n*(n+1)/2\n",
    "\n",
    "print(sum)\n"
   ]
  },
  {
   "cell_type": "code",
   "execution_count": null,
   "id": "547a80c3",
   "metadata": {},
   "outputs": [],
   "source": []
  }
 ],
 "metadata": {
  "kernelspec": {
   "display_name": "base",
   "language": "python",
   "name": "python3"
  },
  "language_info": {
   "codemirror_mode": {
    "name": "ipython",
    "version": 3
   },
   "file_extension": ".py",
   "mimetype": "text/x-python",
   "name": "python",
   "nbconvert_exporter": "python",
   "pygments_lexer": "ipython3",
   "version": "3.13.5"
  }
 },
 "nbformat": 4,
 "nbformat_minor": 5
}
