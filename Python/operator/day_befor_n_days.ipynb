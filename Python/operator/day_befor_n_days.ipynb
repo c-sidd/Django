{
 "cells": [
  {
   "cell_type": "code",
   "execution_count": 1,
   "id": "50658b88",
   "metadata": {},
   "outputs": [
    {
     "name": "stdout",
     "output_type": "stream",
     "text": [
      "Tuesday\n"
     ]
    }
   ],
   "source": [
    "days = {0:\"Sunday\",1:\"Monday\",2:\"Tuesday\",3:\"Wednesday\",4:\"Thursday\",5:\"Friday\",6:\"Saturday\"}\n",
    "d = int(input(\"Enter the day \"))\n",
    "n = int(input(\"Enter the days before you want to find\"))\n",
    "\n",
    "day = d - n%7\n",
    "print(days[day])"
   ]
  },
  {
   "cell_type": "code",
   "execution_count": null,
   "id": "81c4bc02",
   "metadata": {},
   "outputs": [],
   "source": []
  }
 ],
 "metadata": {
  "kernelspec": {
   "display_name": "base",
   "language": "python",
   "name": "python3"
  },
  "language_info": {
   "codemirror_mode": {
    "name": "ipython",
    "version": 3
   },
   "file_extension": ".py",
   "mimetype": "text/x-python",
   "name": "python",
   "nbconvert_exporter": "python",
   "pygments_lexer": "ipython3",
   "version": "3.13.5"
  }
 },
 "nbformat": 4,
 "nbformat_minor": 5
}
