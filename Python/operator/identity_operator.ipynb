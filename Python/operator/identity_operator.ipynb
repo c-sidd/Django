{
 "cells": [
  {
   "cell_type": "markdown",
   "id": "3a4cb378",
   "metadata": {},
   "source": []
  },
  {
   "cell_type": "code",
   "execution_count": null,
   "id": "d311737f",
   "metadata": {},
   "outputs": [],
   "source": [
    "# is and is not is identity operator\n",
    "\n"
   ]
  },
  {
   "cell_type": "code",
   "execution_count": null,
   "id": "c2fb3bab",
   "metadata": {},
   "outputs": [
    {
     "name": "stdout",
     "output_type": "stream",
     "text": [
      "True\n",
      "False\n"
     ]
    }
   ],
   "source": [
    "a = 10;\n",
    "b =10;\n",
    "print(a is b)  \n",
    "print( a is not b)\n"
   ]
  },
  {
   "cell_type": "markdown",
   "id": "e5835c10",
   "metadata": {},
   "source": [
    "\n",
    "\n",
    "## 🔹 Identity Operators in Python\n",
    "\n",
    "* `is` → returns `True` if **both operands refer to the same object in memory**.\n",
    "* `is not` → returns `True` if they **do not refer to the same object**.\n",
    "\n",
    "👉 These check **object identity**, not value equality.\n",
    "\n",
    "---\n",
    "\n",
    "### ✅ Example\n",
    "\n",
    "```python\n",
    "a = [1, 2, 3]\n",
    "b = [1, 2, 3]\n",
    "\n",
    "print(a == b)      # True  (values are equal)\n",
    "print(a is b)      # False (different objects in memory)\n",
    "\n",
    "c = a\n",
    "print(a is c)      # True  (both refer to same object)\n",
    "```\n",
    "\n",
    "---\n",
    "\n",
    "## 🔹 Difference Between `is` and `==`\n",
    "\n",
    "| Operator | Meaning                                | Example                    |\n",
    "| -------- | -------------------------------------- | -------------------------- |\n",
    "| `==`     | Compares **values**                    | `[1,2] == [1,2]` → `True`  |\n",
    "| `is`     | Compares **identity (memory address)** | `[1,2] is [1,2]` → `False` |\n",
    "\n",
    "---\n",
    "\n",
    "## 🔹 Special Case (Small Integers & Strings)\n",
    "\n",
    "* Python **caches** some small integers (`-5 to 256`) and some strings.\n",
    "  So sometimes `is` looks like it works for values, but it’s just caching.\n",
    "\n",
    "```python\n",
    "x = 100\n",
    "y = 100\n",
    "print(x is y)  # True (cached small integer)\n",
    "\n",
    "x = 1000\n",
    "y = 1000\n",
    "print(x is y)  # False (not cached, different objects)\n",
    "```\n",
    "\n",
    "---\n",
    "\n",
    "## 🔹 Quick Comparison with C++\n",
    "\n",
    "In C++:\n",
    "\n",
    "* `==` → compares values\n",
    "* `&a == &b` → compares **memory addresses** (similar to Python’s `is`).\n",
    "\n",
    "So:\n",
    "\n",
    "* Python `is` ≈ C++ `&a == &b`\n",
    "* Python `==` ≈ C++ `a == b`\n",
    "\n",
    "---\n",
    "\n",
    "✅ **Summary:**\n",
    "\n",
    "* `is` / `is not` → check if two variables **point to the same object**.\n",
    "* `==` → checks if **values are equal**.\n",
    "* Useful when comparing **None** (`if x is None:`).\n",
    "\n"
   ]
  },
  {
   "cell_type": "code",
   "execution_count": null,
   "id": "d3a31840",
   "metadata": {},
   "outputs": [],
   "source": []
  }
 ],
 "metadata": {
  "kernelspec": {
   "display_name": "base",
   "language": "python",
   "name": "python3"
  },
  "language_info": {
   "codemirror_mode": {
    "name": "ipython",
    "version": 3
   },
   "file_extension": ".py",
   "mimetype": "text/x-python",
   "name": "python",
   "nbconvert_exporter": "python",
   "pygments_lexer": "ipython3",
   "version": "3.13.5"
  }
 },
 "nbformat": 4,
 "nbformat_minor": 5
}
