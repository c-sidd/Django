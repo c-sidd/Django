{
 "cells": [
  {
   "cell_type": "markdown",
   "id": "e3311df2",
   "metadata": {},
   "source": [
    "in python there is no term like character character is considered as a string\n"
   ]
  },
  {
   "cell_type": "markdown",
   "id": "30eb929f",
   "metadata": {},
   "source": []
  },
  {
   "cell_type": "code",
   "execution_count": null,
   "id": "ac29a31b",
   "metadata": {},
   "outputs": [],
   "source": [
    "#in operator is a membership operator in string (in operaor) check for substring and in dictionary it check for key and in list it check for members of list"
   ]
  },
  {
   "cell_type": "code",
   "execution_count": 1,
   "id": "961f8c79",
   "metadata": {},
   "outputs": [
    {
     "name": "stdout",
     "output_type": "stream",
     "text": [
      "True\n",
      "True\n",
      "False\n"
     ]
    }
   ],
   "source": [
    "s = \"geeks\"\n",
    "print(\"g\"in s)\n",
    "print(\"eek\" in s)\n",
    "print(\"gk\"in s)"
   ]
  },
  {
   "cell_type": "code",
   "execution_count": 3,
   "id": "de311891",
   "metadata": {},
   "outputs": [
    {
     "name": "stdout",
     "output_type": "stream",
     "text": [
      "True\n",
      "False\n",
      "False\n"
     ]
    }
   ],
   "source": [
    "t = { 1:101,2:354,4:890}\n",
    "print(1 in t)\n",
    "print(3 in t)\n",
    "print(101 in t )"
   ]
  },
  {
   "cell_type": "code",
   "execution_count": 5,
   "id": "8b92581c",
   "metadata": {},
   "outputs": [
    {
     "name": "stdout",
     "output_type": "stream",
     "text": [
      "True\n",
      "False\n",
      "False\n"
     ]
    }
   ],
   "source": [
    "l = [10,20,30,40]\n",
    "print(30 in l)\n",
    "print([20,30]in l)\n",
    "print(30 not in l)"
   ]
  },
  {
   "cell_type": "markdown",
   "id": "37583bd8",
   "metadata": {},
   "source": [
    "\n",
    "\n",
    "## 🔹 Membership Operators in Python\n",
    "\n",
    "* `in` → Returns `True` if the value exists in the container.\n",
    "* `not in` → Returns `True` if the value does **not** exist in the container.\n",
    "\n",
    "---\n",
    "\n",
    "### ✅ On Strings\n",
    "\n",
    "Checks for **substring**:\n",
    "\n",
    "```python\n",
    "text = \"hello world\"\n",
    "\n",
    "print(\"hello\" in text)      # True\n",
    "print(\"world\" not in text)  # False\n",
    "print(\"hi\" in text)         # False\n",
    "```\n",
    "\n",
    "---\n",
    "\n",
    "### ✅ On Lists / Tuples / Sets\n",
    "\n",
    "Checks for **element membership**:\n",
    "\n",
    "```python\n",
    "nums = [1, 2, 3, 4]\n",
    "\n",
    "print(3 in nums)       # True\n",
    "print(5 not in nums)   # True\n",
    "```\n",
    "\n",
    "---\n",
    "\n",
    "### ✅ On Dictionaries\n",
    "\n",
    "Checks for **keys only** (not values):\n",
    "\n",
    "```python\n",
    "d = {\"name\": \"Siddharth\", \"age\": 20}\n",
    "\n",
    "print(\"name\" in d)       # True  (key exists)\n",
    "print(\"Siddharth\" in d)  # False (value, not key)\n",
    "```\n",
    "\n",
    "👉 To check for values, you need:\n",
    "\n",
    "```python\n",
    "print(\"Siddharth\" in d.values())  # True\n",
    "```\n",
    "\n",
    "---\n",
    "\n",
    "## 🔹 Comparison with C++\n",
    "\n",
    "In **C++**, there is no direct `in` operator:\n",
    "\n",
    "* For **strings**, you would use `.find()`:\n",
    "\n",
    "  ```cpp\n",
    "  string s = \"hello world\";\n",
    "  cout << (s.find(\"hello\") != string::npos);  // 1 (true)\n",
    "  ```\n",
    "* For **arrays/lists**, you’d use a loop or `std::find()` (from `<algorithm>`):\n",
    "\n",
    "  ```cpp\n",
    "  vector<int> v = {1,2,3,4};\n",
    "  cout << (find(v.begin(), v.end(), 3) != v.end());  // 1 (true)\n",
    "  ```\n",
    "* For **maps**, you’d check with `.find(key) != map.end()`.\n",
    "\n",
    "So:\n",
    "\n",
    "* Python `in` → direct, simple\n",
    "* C++ → requires `find()` or loops\n",
    "\n",
    "---\n",
    "\n",
    "## ✅ Revision Summary\n",
    "\n",
    "* `in` / `not in` are **membership operators**.\n",
    "* Work differently on different types:\n",
    "\n",
    "  * **string** → substring check\n",
    "  * **list/tuple/set** → element check\n",
    "  * **dict** → key check (not values)\n",
    "* In C++, no direct equivalent (need `find()` functions).\n",
    "\n",
    "\n"
   ]
  },
  {
   "cell_type": "code",
   "execution_count": null,
   "id": "3efa6d10",
   "metadata": {},
   "outputs": [],
   "source": []
  }
 ],
 "metadata": {
  "kernelspec": {
   "display_name": "base",
   "language": "python",
   "name": "python3"
  },
  "language_info": {
   "codemirror_mode": {
    "name": "ipython",
    "version": 3
   },
   "file_extension": ".py",
   "mimetype": "text/x-python",
   "name": "python",
   "nbconvert_exporter": "python",
   "pygments_lexer": "ipython3",
   "version": "3.13.5"
  }
 },
 "nbformat": 4,
 "nbformat_minor": 5
}
