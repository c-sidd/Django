{
 "cells": [
  {
   "cell_type": "code",
   "execution_count": 1,
   "id": "74c82c6d",
   "metadata": {},
   "outputs": [
    {
     "name": "stdout",
     "output_type": "stream",
     "text": [
      "13\n",
      "5\n",
      "36\n",
      "2.25\n",
      "2\n",
      "1\n",
      "6561\n"
     ]
    }
   ],
   "source": [
    "x=9\n",
    "y=4\n",
    "print(x+y)\n",
    "print(x-y)\n",
    "print(x*y) #\n",
    "print(x/y)  # it gives actual division with decimal value\n",
    "print(x//y)     # it gives the floor value of division discar(decimal)\n",
    "print(x%y)   #modular division\n",
    "print(x**y) # power x raise to power y\n"
   ]
  },
  {
   "cell_type": "code",
   "execution_count": 1,
   "id": "3c13e6c5",
   "metadata": {},
   "outputs": [],
   "source": [
    "# all the operator in pyhton have left ot right asociativity except power operator "
   ]
  },
  {
   "cell_type": "code",
   "execution_count": 6,
   "id": "c94326f2",
   "metadata": {},
   "outputs": [
    {
     "name": "stdout",
     "output_type": "stream",
     "text": [
      "1.4142135623730951\n",
      "0.25\n"
     ]
    }
   ],
   "source": [
    "print(2**2**-1)\n",
    "print((2**2)**-1)"
   ]
  },
  {
   "cell_type": "code",
   "execution_count": null,
   "id": "e7ad3216",
   "metadata": {},
   "outputs": [],
   "source": []
  }
 ],
 "metadata": {
  "kernelspec": {
   "display_name": "base",
   "language": "python",
   "name": "python3"
  },
  "language_info": {
   "codemirror_mode": {
    "name": "ipython",
    "version": 3
   },
   "file_extension": ".py",
   "mimetype": "text/x-python",
   "name": "python",
   "nbconvert_exporter": "python",
   "pygments_lexer": "ipython3",
   "version": "3.13.5"
  }
 },
 "nbformat": 4,
 "nbformat_minor": 5
}
